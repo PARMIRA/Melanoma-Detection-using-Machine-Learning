{
 "cells": [
  {
   "cell_type": "markdown",
   "metadata": {},
   "source": [
    "# Skin Cancer Detection with 3D-TBP"
   ]
  },
  {
   "cell_type": "markdown",
   "metadata": {},
   "source": [
    "## 0. Setup"
   ]
  },
  {
   "cell_type": "code",
   "execution_count": 1,
   "metadata": {
    "_cell_guid": "b1076dfc-b9ad-4769-8c92-a6c4dae69d19",
    "_uuid": "8f2839f25d086af736a60e9eeb907d3b93b6e0e5",
    "execution": {
     "iopub.execute_input": "2025-04-28T01:37:41.705647Z",
     "iopub.status.busy": "2025-04-28T01:37:41.705310Z",
     "iopub.status.idle": "2025-04-28T01:37:43.094211Z",
     "shell.execute_reply": "2025-04-28T01:37:43.093008Z",
     "shell.execute_reply.started": "2025-04-28T01:37:41.705619Z"
    },
    "trusted": true
   },
   "outputs": [
    {
     "name": "stdout",
     "output_type": "stream",
     "text": [
      "sample_submission.csv\n",
      "train-metadata.csv\n",
      "test-metadata.csv\n",
      "test-image.hdf5\n",
      "train-image\n",
      "train-image.hdf5\n"
     ]
    }
   ],
   "source": [
    "# This Python 3 environment comes with many helpful analytics libraries installed\n",
    "# It is defined by the kaggle/python Docker image: https://github.com/kaggle/docker-python\n",
    "# For example, here's several helpful packages to load\n",
    "\n",
    "import numpy as np # linear algebra\n",
    "import pandas as pd # data processing, CSV file I/O (e.g. pd.read_csv)\n",
    "\n",
    "# Input data files are available in the read-only \"../input/\" directory\n",
    "# For example, running this (by clicking run or pressing Shift+Enter) will list all files under the input directory\n",
    "\n",
    "import os\n",
    "current_dir = \"/kaggle/input/isic-2024-challenge\"\n",
    "\n",
    "# List all files in the current directory (excluding subdirectories)\n",
    "files_in_dir = [f for f in os.listdir(current_dir)]\n",
    "for file in files_in_dir:\n",
    "    print(file)\n",
    "\n",
    "    \n",
    "# You can write up to 20GB to the current directory (/kaggle/working/) that gets preserved as output when you create a version using \"Save & Run All\" \n",
    "# You can also write temporary files to /kaggle/temp/, but they won't be saved outside of the current session"
   ]
  },
  {
   "cell_type": "code",
   "execution_count": 2,
   "metadata": {
    "execution": {
     "iopub.execute_input": "2025-04-28T01:37:43.096290Z",
     "iopub.status.busy": "2025-04-28T01:37:43.095619Z",
     "iopub.status.idle": "2025-04-28T01:37:59.112371Z",
     "shell.execute_reply": "2025-04-28T01:37:59.110676Z",
     "shell.execute_reply.started": "2025-04-28T01:37:43.096209Z"
    },
    "trusted": true
   },
   "outputs": [],
   "source": [
    "import numpy as np \n",
    "import pandas as pd \n",
    "import matplotlib.pyplot as plt\n",
    "import io\n",
    "import os \n",
    "import h5py\n",
    "import cv2\n",
    "import copy\n",
    "import re\n",
    "import optuna\n",
    "import torch\n",
    "from google.colab.patches import cv2_imshow\n",
    "from IPython.display import display, Javascript\n",
    "import plotly.express as px\n",
    "from sklearn.model_selection import train_test_split, cross_val_score\n",
    "from sklearn.compose import ColumnTransformer\n",
    "from sklearn.pipeline import Pipeline\n",
    "from sklearn.experimental import enable_iterative_imputer\n",
    "from sklearn.impute import IterativeImputer,KNNImputer\n",
    "from sklearn.preprocessing import MinMaxScaler, OneHotEncoder, FunctionTransformer\n",
    "from sklearn.feature_extraction import FeatureHasher\n",
    "from sklearn.ensemble import RandomForestClassifier, RandomForestRegressor\n",
    "from sklearn.metrics import roc_auc_score, average_precision_score, f1_score, roc_curve, auc\n",
    "from sklearn.preprocessing import LabelEncoder,MinMaxScaler\n",
    "from sklearn.neural_network import MLPClassifier\n",
    "from sklearn.linear_model import LogisticRegression, LinearRegression,SGDClassifier,BayesianRidge\n",
    "from sklearn.utils import resample\n",
    "from sklearn.impute import SimpleImputer\n",
    "from sklearn.preprocessing import OneHotEncoder, StandardScaler\n",
    "from sklearn.compose import ColumnTransformer\n",
    "from sklearn.pipeline import Pipeline\n",
    "from imblearn.combine import *\n",
    "from imblearn.under_sampling import *\n",
    "from imblearn.over_sampling import *\n",
    "from imblearn.pipeline import Pipeline\n",
    "import plotly.graph_objects as go\n",
    "from plotly.subplots import make_subplots\n",
    "import xgboost as xgb\n",
    "from sklearn.model_selection import cross_val_score\n",
    "from sklearn.metrics import roc_auc_score\n",
    "import lightgbm as lgb\n",
    "import catboost as cb\n",
    "from sklearn.ensemble import VotingClassifier,StackingClassifier\n",
    "from torchvision import transforms\n",
    "import torchvision.transforms.v2 as T\n",
    "from PIL import Image\n",
    "import pickle\n",
    "from torch.utils.data import Dataset, DataLoader\n",
    "import torchvision.models as models\n",
    "from tqdm import tqdm"
   ]
  },
  {
   "cell_type": "code",
   "execution_count": 4,
   "metadata": {
    "execution": {
     "iopub.execute_input": "2025-04-28T01:38:10.174330Z",
     "iopub.status.busy": "2025-04-28T01:38:10.173918Z",
     "iopub.status.idle": "2025-04-28T01:38:10.178782Z",
     "shell.execute_reply": "2025-04-28T01:38:10.177758Z",
     "shell.execute_reply.started": "2025-04-28T01:38:10.174292Z"
    },
    "trusted": true
   },
   "outputs": [],
   "source": [
    "import warnings\n",
    "warnings.filterwarnings('ignore')"
   ]
  },
  {
   "cell_type": "markdown",
   "metadata": {},
   "source": [
    "## 1. Data Loading"
   ]
  },
  {
   "cell_type": "code",
   "execution_count": 27,
   "metadata": {
    "execution": {
     "iopub.execute_input": "2025-04-28T01:48:14.916541Z",
     "iopub.status.busy": "2025-04-28T01:48:14.916077Z",
     "iopub.status.idle": "2025-04-28T01:48:22.551738Z",
     "shell.execute_reply": "2025-04-28T01:48:22.550158Z",
     "shell.execute_reply.started": "2025-04-28T01:48:14.916499Z"
    },
    "trusted": true
   },
   "outputs": [],
   "source": [
    "# load all the data required for model ensembling\n",
    "result_dir = \"/kaggle/input/results-3\"\n",
    "result_dn_dir = \"/kaggle/input/results4\"\n",
    "current_dir = \"/kaggle/input/isic-2024-challenge\"\n",
    "#all_dir = \"/kaggle/input/all-isic-data-20240629\"\n",
    "id_dir = \"/kaggle/input/datasplit\"\n",
    "\n",
    "# predictions\n",
    "#train_preds = pd.read_csv(os.path.join(result_dir, \"train_predictions.csv\"))\n",
    "val_preds = pd.read_csv(os.path.join(result_dir, \"val_predictions.csv\"))\n",
    "test_preds = pd.read_csv(os.path.join(result_dir, \"test_predictions.csv\"))\n",
    "val_preds_dn = pd.read_csv(os.path.join(result_dn_dir, \"val_predictions.csv\"))\n",
    "test_preds_dn = pd.read_csv(os.path.join(result_dn_dir, \"test_predictions.csv\"))\n",
    "val_preds[\"densenet\"] = val_preds_dn[\"densenet\"]\n",
    "test_preds[\"densenet\"] = test_preds_dn[\"densenet\"]\n",
    "\n",
    "# metadata\n",
    "isic_meta = pd.read_csv(os.path.join(current_dir,'train-metadata.csv'), low_memory=False)\n",
    "#all_meta = pd.read_csv(os.path.join(all_dir, \"metadata.csv\"))\n",
    "#augmented_meta = pd.read_csv(os.path.join(result_dir, \"augmented_metadata.csv\"))\n",
    "\n",
    "# train/validation/test ISIC_IDs\n",
    "train_id = pd.read_csv(os.path.join(id_dir, \"train_id.csv\"))\n",
    "val_id = pd.read_csv(os.path.join(id_dir, \"val_id.csv\"))\n",
    "test_id = pd.read_csv(os.path.join(id_dir, \"test_id.csv\"))"
   ]
  },
  {
   "cell_type": "markdown",
   "metadata": {},
   "source": [
    "**Dropping Features**\n",
    "\n",
    "Notice that the following features are only included in `train-metadata`:\n",
    "- `target`: Binary class {0: benign, 1: malignant}; i.e., labels\n",
    "- `lesion_id`: Unique lesion identifier. Present in lesions that were manually tagged as a lesion of interest\n",
    "- `iddx_full`: Fully classified lesion diagnosis\n",
    "- `iddx_1`: First level lesion diagnosis\n",
    "- `iddx_2`: Second level lesion diagnosis\n",
    "- `iddx_3`: Third level lesion diagnosis\n",
    "- `iddx_4`: Fourth level lesion diagnosis\n",
    "- `iddx_5`: Fifth level lesion diagnosis\n",
    "- `mel_mitotic_index`: Mitotic index of invasive malignant melanomas\n",
    "- `mel_thick_mm`: Thickness in depth of melanoma invasion\n",
    "- `tbp_lv_dnn_lesion_confidence`: Lesion confidence score (0-100 scale)\n",
    "\n",
    "We will exclude all these features but `target` to avoid target leakage, because some of these variables directly reveal the target outcome.\n",
    "\n",
    "Besides, the following features are irrelevant to our training:\n",
    "- `patient_id`: Unique patient identifier; assumed that all the images are independent\n",
    "- `image_type`: Structured field of the ISIC Archive for image type; all the images have the same value of \"TBP tile: close-up\"\n",
    "- `tbp_tile_type`: Lighting modality of the 3D TBP source image\n",
    "- `attribution`: Image attribution, synonymous with image source\n",
    "- `copyright_license`: Copyright license\n",
    "\n",
    "All these features will be excluded."
   ]
  },
  {
   "cell_type": "code",
   "execution_count": 7,
   "metadata": {
    "execution": {
     "iopub.execute_input": "2025-04-22T20:20:05.454116Z",
     "iopub.status.busy": "2025-04-22T20:20:05.453718Z",
     "iopub.status.idle": "2025-04-22T20:20:05.459163Z",
     "shell.execute_reply": "2025-04-22T20:20:05.457823Z",
     "shell.execute_reply.started": "2025-04-22T20:20:05.454042Z"
    },
    "trusted": true
   },
   "outputs": [],
   "source": [
    "def drop_colns(df):\n",
    "    \"\"\"\n",
    "    Remove features causing \"target leakage\" and irrelavant to training \n",
    "    \"\"\"\n",
    "    coln_list = [\n",
    "        \"patient_id\", \"lesion_id\", \"iddx_full\", \n",
    "        \"iddx_1\", \"iddx_2\", \"iddx_3\", \"iddx_4\", \"iddx_5\",\n",
    "        \"mel_mitotic_index\", \"mel_thick_mm\", \"tbp_lv_dnn_lesion_confidence\",\n",
    "        \"image_type\", \"tbp_tile_type\", \"attribution\", \"copyright_license\"\n",
    "    ]\n",
    "    df_new = df.drop(columns=coln_list)\n",
    "    return df_new"
   ]
  },
  {
   "cell_type": "code",
   "execution_count": 8,
   "metadata": {
    "execution": {
     "iopub.execute_input": "2025-04-22T20:20:05.711241Z",
     "iopub.status.busy": "2025-04-22T20:20:05.710912Z",
     "iopub.status.idle": "2025-04-22T20:20:05.715801Z",
     "shell.execute_reply": "2025-04-22T20:20:05.714466Z",
     "shell.execute_reply.started": "2025-04-22T20:20:05.711216Z"
    },
    "trusted": true
   },
   "outputs": [],
   "source": [
    "def one_hot_encode(meta):\n",
    "    \"\"\"\n",
    "    Perform one-hot encoding for all the categorical variables\n",
    "    \"\"\"\n",
    "    # identify categorical features (excl. `isic_id` and `target`)\n",
    "    cat_cols = meta.select_dtypes([\"object\"]).columns[1:]\n",
    "\n",
    "    # one-hot encoding\n",
    "    meta_new = pd.get_dummies(meta, columns=cat_cols)\n",
    "\n",
    "    return meta_new"
   ]
  },
  {
   "cell_type": "code",
   "execution_count": 9,
   "metadata": {
    "execution": {
     "iopub.execute_input": "2025-04-22T20:20:07.614070Z",
     "iopub.status.busy": "2025-04-22T20:20:07.613736Z",
     "iopub.status.idle": "2025-04-22T20:20:07.818761Z",
     "shell.execute_reply": "2025-04-22T20:20:07.817917Z",
     "shell.execute_reply.started": "2025-04-22T20:20:07.614045Z"
    },
    "trusted": true
   },
   "outputs": [
    {
     "data": {
      "text/plain": [
       "(401059, 72)"
      ]
     },
     "execution_count": 9,
     "metadata": {},
     "output_type": "execute_result"
    }
   ],
   "source": [
    "isic_meta_upd = one_hot_encode(drop_colns(isic_meta))\n",
    "isic_meta_upd.shape"
   ]
  },
  {
   "cell_type": "code",
   "execution_count": 10,
   "metadata": {
    "execution": {
     "iopub.execute_input": "2025-04-22T20:20:09.622978Z",
     "iopub.status.busy": "2025-04-22T20:20:09.622625Z",
     "iopub.status.idle": "2025-04-22T20:20:10.004262Z",
     "shell.execute_reply": "2025-04-22T20:20:10.002953Z",
     "shell.execute_reply.started": "2025-04-22T20:20:09.622952Z"
    },
    "trusted": true
   },
   "outputs": [],
   "source": [
    "train_meta = isic_meta_upd[isic_meta_upd[\"isic_id\"].isin(train_id[\"isic_id\"].values)]\n",
    "val_meta = isic_meta_upd[isic_meta_upd[\"isic_id\"].isin(val_id[\"isic_id\"].values)]\n",
    "test_meta = isic_meta_upd[isic_meta_upd[\"isic_id\"].isin(test_id[\"isic_id\"].values)]"
   ]
  },
  {
   "cell_type": "code",
   "execution_count": 11,
   "metadata": {
    "execution": {
     "iopub.execute_input": "2025-04-22T20:20:11.864006Z",
     "iopub.status.busy": "2025-04-22T20:20:11.863640Z",
     "iopub.status.idle": "2025-04-22T20:20:11.901163Z",
     "shell.execute_reply": "2025-04-22T20:20:11.900178Z",
     "shell.execute_reply.started": "2025-04-22T20:20:11.863978Z"
    },
    "trusted": true
   },
   "outputs": [
    {
     "data": {
      "text/plain": [
       "age_approx    0.006903\n",
       "dtype: float64"
      ]
     },
     "execution_count": 11,
     "metadata": {},
     "output_type": "execute_result"
    }
   ],
   "source": [
    "# proportion of missing values for each feature\n",
    "missing_prop = train_meta.isna().sum() / train_meta.shape[0]\n",
    "missing_prop[missing_prop > 0] # displaying only the features with missing values"
   ]
  },
  {
   "cell_type": "markdown",
   "metadata": {},
   "source": [
    "### Metadata Preprocessing"
   ]
  },
  {
   "cell_type": "code",
   "execution_count": 13,
   "metadata": {
    "execution": {
     "iopub.execute_input": "2025-04-22T02:55:52.762339Z",
     "iopub.status.busy": "2025-04-22T02:55:52.761952Z",
     "iopub.status.idle": "2025-04-22T02:55:52.772918Z",
     "shell.execute_reply": "2025-04-22T02:55:52.771764Z",
     "shell.execute_reply.started": "2025-04-22T02:55:52.762305Z"
    },
    "trusted": true
   },
   "outputs": [],
   "source": [
    "def data_processing_metadata(result):\n",
    "    \"\"\"\n",
    "    Imputation + standardization\n",
    "\n",
    "    Input\n",
    "    result: Output of `data_split`, a dictionary of the form\n",
    "            {\"train\": [meta_train, img_train], \"valid\": ..., \"test\": ...}\n",
    "    \"\"\"\n",
    "    # unpackage \"result\"\n",
    "    result_copy = copy.deepcopy(result)\n",
    "    meta_train = result_copy[\"train\"]\n",
    "    meta_valid = result_copy[\"valid\"]\n",
    "    meta_test = result_copy[\"test\"]\n",
    "\n",
    "    # KNN imputation\n",
    "    # fit imputer ONLY on training data (avoiding info leakage)\n",
    "    knn_imputer = KNNImputer()\n",
    "    knn_imputer.fit(meta_train.iloc[:, 2:]) # excl. `isic_id` and `target`\n",
    "    # apply imputer to ALL data\n",
    "    meta_train.iloc[:, 2:] = knn_imputer.transform(meta_train.iloc[:, 2:])\n",
    "    meta_valid.iloc[:, 2:] = knn_imputer.transform(meta_valid.iloc[:, 2:])\n",
    "    meta_test.iloc[:, 2:] = knn_imputer.transform(meta_test.iloc[:, 2:])\n",
    "\n",
    "    # standardization\n",
    "    # fit scaler ONLY on training data (avoiding info leakage)\n",
    "    num_cols = meta_train.select_dtypes([\"int64\", \"float64\"]).columns[1:35] # before the one-hot variables\n",
    "    std_scaler = StandardScaler()\n",
    "    std_scaler.fit(meta_train[num_cols]) # `isic_id` is not included in \"num_cols\"\n",
    "    # apply scaler to ALL data\n",
    "    meta_train[num_cols] = std_scaler.transform(meta_train[num_cols])\n",
    "    meta_valid[num_cols] = std_scaler.transform(meta_valid[num_cols])\n",
    "    meta_test[num_cols] = std_scaler.transform(meta_test[num_cols])\n",
    "\n",
    "    result_new = {\n",
    "        \"train\": meta_train,\n",
    "        \"valid\": meta_valid,\n",
    "        \"test\": meta_test\n",
    "    }\n",
    "    return result_new"
   ]
  },
  {
   "cell_type": "code",
   "execution_count": 14,
   "metadata": {
    "execution": {
     "iopub.execute_input": "2025-04-22T02:55:52.774476Z",
     "iopub.status.busy": "2025-04-22T02:55:52.774071Z",
     "iopub.status.idle": "2025-04-22T03:01:07.366796Z",
     "shell.execute_reply": "2025-04-22T03:01:07.365889Z",
     "shell.execute_reply.started": "2025-04-22T02:55:52.774440Z"
    },
    "trusted": true
   },
   "outputs": [],
   "source": [
    "res = {\n",
    "    \"train\": train_meta,\n",
    "    \"valid\": val_meta,\n",
    "    \"test\": test_meta\n",
    "}\n",
    "res_ = data_processing_metadata(res)"
   ]
  },
  {
   "cell_type": "code",
   "execution_count": 15,
   "metadata": {
    "execution": {
     "iopub.execute_input": "2025-04-22T03:01:07.368305Z",
     "iopub.status.busy": "2025-04-22T03:01:07.367806Z",
     "iopub.status.idle": "2025-04-22T03:01:07.378217Z",
     "shell.execute_reply": "2025-04-22T03:01:07.377229Z",
     "shell.execute_reply.started": "2025-04-22T03:01:07.368267Z"
    },
    "trusted": true
   },
   "outputs": [
    {
     "name": "stdout",
     "output_type": "stream",
     "text": [
      "Proportion of positive examples in training set\n",
      "0.0009807384628171298\n",
      "\n",
      "Proportion of positive examples in validation set\n",
      "0.0009807343872072342\n",
      "\n",
      "Proportion of positive examples in test set\n",
      "0.000977409863860769\n"
     ]
    }
   ],
   "source": [
    "print(\"Proportion of positive examples in training set\")\n",
    "print(np.sum(res_[\"train\"][\"target\"]) / res_[\"train\"].shape[0])\n",
    "print(\"\\nProportion of positive examples in validation set\")\n",
    "print(np.sum(res_[\"valid\"][\"target\"]) / res_[\"valid\"].shape[0])\n",
    "print(\"\\nProportion of positive examples in test set\")\n",
    "print(np.sum(res_[\"test\"][\"target\"]) / res_[\"test\"].shape[0])"
   ]
  },
  {
   "cell_type": "markdown",
   "metadata": {},
   "source": [
    "**Missing Values**\n",
    "\n",
    "As can be seen in the previous missing value summary, there are missing entries for the following features (\"feature_name\": missing_proportion):\n",
    "- `age_approx` (Approximate age of patient at time of imaging): ~0.7%\n",
    "- `sex`: ~2.9%\n",
    "- `anatom_site_general` (Location of the lesion on the patient's body): ~1.4%\n",
    "\n",
    "Instead of removing these samples (images), we will perform imputation after splitting the dataset into a training set and a test set."
   ]
  },
  {
   "cell_type": "markdown",
   "metadata": {},
   "source": [
    "### 2.4. Data Resampling\n",
    "\n",
    "The dataset is extremely imbalanced, since there are only less than 0.1% of images are positive samples. Up-sampling and/or down-sampling are required to address this issue."
   ]
  },
  {
   "cell_type": "code",
   "execution_count": 14,
   "metadata": {
    "execution": {
     "iopub.execute_input": "2025-03-14T00:44:39.242980Z",
     "iopub.status.busy": "2025-03-14T00:44:39.242519Z",
     "iopub.status.idle": "2025-03-14T00:44:39.250707Z",
     "shell.execute_reply": "2025-03-14T00:44:39.249125Z",
     "shell.execute_reply.started": "2025-03-14T00:44:39.242942Z"
    },
    "trusted": true
   },
   "outputs": [],
   "source": [
    "def data_resampling(X_train, Y_train, down=0.1, up=0.3, seed=123):\n",
    "    \"\"\"\n",
    "    Resample the training metadata to alleviate data imbalances\n",
    "    \"\"\"\n",
    "    X_train_new = copy.deepcopy(X_train)\n",
    "    Y_train_new = copy.deepcopy(Y_train)\n",
    "    #X_train = meta_train.drop(columns=[\"isic_id\", \"target\"])\n",
    "    #Y_train = meta_train[\"target\"]\n",
    "\n",
    "    # down-sample the negative samples\n",
    "    down_sampler = RandomUnderSampler(sampling_strategy=down, random_state=seed)\n",
    "    X_train_new, Y_train_new = down_sampler.fit_resample(X_train_new, Y_train_new)\n",
    "    # up-sample the positive samples using SMOTE\n",
    "    up_sampler = SMOTE(sampling_strategy=up, random_state=seed)\n",
    "    X_train_new, Y_train_new = up_sampler.fit_resample(X_train_new, Y_train_new)\n",
    "\n",
    "    return X_train_new, Y_train_new"
   ]
  },
  {
   "cell_type": "code",
   "execution_count": 28,
   "metadata": {
    "execution": {
     "iopub.execute_input": "2025-04-22T01:01:12.239810Z",
     "iopub.status.busy": "2025-04-22T01:01:12.239474Z",
     "iopub.status.idle": "2025-04-22T01:01:12.404833Z",
     "shell.execute_reply": "2025-04-22T01:01:12.403983Z",
     "shell.execute_reply.started": "2025-04-22T01:01:12.239783Z"
    },
    "trusted": true
   },
   "outputs": [],
   "source": [
    "# extract all the datasets\n",
    "meta_train = res_[\"train\"]\n",
    "meta_valid = res_[\"valid\"]\n",
    "meta_test = res_[\"test\"]\n",
    "\n",
    "X_train = meta_train.drop(columns=[\"isic_id\", \"target\"])\n",
    "Y_train = meta_train[\"target\"]\n",
    "X_valid = meta_valid.drop(columns=[\"isic_id\", \"target\"])\n",
    "Y_valid = meta_valid[\"target\"]\n",
    "X_test = meta_test.drop(columns=[\"isic_id\", \"target\"])\n",
    "Y_test = meta_test[\"target\"]"
   ]
  },
  {
   "cell_type": "code",
   "execution_count": 148,
   "metadata": {
    "execution": {
     "iopub.execute_input": "2025-04-20T21:23:35.141911Z",
     "iopub.status.busy": "2025-04-20T21:23:35.141513Z",
     "iopub.status.idle": "2025-04-20T21:23:35.215882Z",
     "shell.execute_reply": "2025-04-20T21:23:35.214702Z",
     "shell.execute_reply.started": "2025-04-20T21:23:35.141875Z"
    },
    "trusted": true
   },
   "outputs": [],
   "source": [
    "# optional\n",
    "meta_test = meta_test[meta_test[\"isic_id\"].isin(isic_meta[\"isic_id\"])]"
   ]
  },
  {
   "cell_type": "markdown",
   "metadata": {},
   "source": [
    "## 3. Hyperparameter Tuning"
   ]
  },
  {
   "cell_type": "code",
   "execution_count": 7,
   "metadata": {
    "execution": {
     "iopub.execute_input": "2025-04-27T20:53:15.792998Z",
     "iopub.status.busy": "2025-04-27T20:53:15.792623Z",
     "iopub.status.idle": "2025-04-27T20:53:15.808011Z",
     "shell.execute_reply": "2025-04-27T20:53:15.806641Z",
     "shell.execute_reply.started": "2025-04-27T20:53:15.792971Z"
    },
    "trusted": true
   },
   "outputs": [],
   "source": [
    "def hyperparameter_tuning(X_train, Y_train, X_valid, Y_valid, model=\"xgb\", seed=123):\n",
    "    \"\"\"\n",
    "    Tune the hyperparameters on the validation set\n",
    "    \"\"\"\n",
    "    # ElasticNet, Random Forest, XGBoost\n",
    "    assert model in [\"xgb\", \"cat\", \"gbm\"]\n",
    "    \n",
    "    # objective to be optimized\n",
    "    def objective(trial):\n",
    "        num_positive = np.sum(Y_train == 1)\n",
    "        num_negative = np.sum(Y_train == 0)\n",
    "        ratio = num_negative / num_positive\n",
    "\n",
    "        # XGBoost\n",
    "        if model == \"xgb\":\n",
    "            params = {\n",
    "                'lambda': trial.suggest_loguniform('lambda', 1e-8, 10.0),\n",
    "                'alpha': trial.suggest_loguniform('alpha', 1e-8, 10.0),\n",
    "                'max_depth': trial.suggest_int('max_depth', 3, 12),\n",
    "                'eta': trial.suggest_loguniform('eta', 1e-3, 0.3),\n",
    "                'gamma': trial.suggest_loguniform('gamma', 1e-8, 10.0),\n",
    "                'min_child_weight': trial.suggest_loguniform('min_child_weight', 1e-8, 10.0),\n",
    "                'subsample': trial.suggest_uniform('subsample', 0.5, 1.0),\n",
    "                'colsample_bytree': trial.suggest_uniform('colsample_bytree', 0.5, 1.0),\n",
    "                'n_estimators': trial.suggest_int('n_estimators', 50, 500),\n",
    "                'scale_pos_weight': trial.suggest_categorical('scale_pos_weight', [None, ratio])\n",
    "            }\n",
    "            clf = xgb.XGBClassifier(**params, random_state=seed)\n",
    "\n",
    "        # CatBoost\n",
    "        elif model == \"cat\":\n",
    "            params = {\n",
    "                'iterations': trial.suggest_int('iterations', 100, 1000),\n",
    "                'learning_rate': trial.suggest_float('learning_rate', 1e-3, 0.3, log=True),\n",
    "                'depth': trial.suggest_int('depth', 4, 10),\n",
    "                'l2_leaf_reg': trial.suggest_float('l2_leaf_reg', 1.0, 10.0),\n",
    "                'bootstrap_type': trial.suggest_categorical('bootstrap_type', ['Bayesian', 'Bernoulli', 'MVS']),\n",
    "                'random_strength': trial.suggest_float('random_strength', 1e-3, 10.0, log=True),\n",
    "                'border_count': trial.suggest_int('border_count', 32, 255),\n",
    "                #'scale_pos_weight': trial.suggest_float('scale_pos_weight', 0.5, 5.0),\n",
    "                'scale_pos_weight': trial.suggest_categorical('scale_pos_weight', [None, ratio]),\n",
    "                'verbose': 0,\n",
    "            }\n",
    "            if params['bootstrap_type'] == 'Bayesian':\n",
    "                params['bagging_temperature'] = trial.suggest_float('bagging_temperature', 0, 10)\n",
    "            elif params['bootstrap_type'] == 'Bernoulli':\n",
    "                params['subsample'] = trial.suggest_float('subsample', 0.5, 1.0)\n",
    "            clf = cb.CatBoostClassifier(**params, random_state=seed)\n",
    "\n",
    "        # LightGBM\n",
    "        elif model == \"gbm\":\n",
    "            params = {\n",
    "                'n_estimators': trial.suggest_int('n_estimators', 100, 1000),\n",
    "                'learning_rate': trial.suggest_float('learning_rate', 1e-3, 0.3, log=True),\n",
    "                'num_leaves': trial.suggest_int('num_leaves', 16, 256),\n",
    "                'max_depth': trial.suggest_int('max_depth', 3, 15),\n",
    "                'min_child_samples': trial.suggest_int('min_child_samples', 5, 100),\n",
    "                'subsample': trial.suggest_float('subsample', 0.5, 1.0),\n",
    "                'colsample_bytree': trial.suggest_float('colsample_bytree', 0.5, 1.0),\n",
    "                'reg_alpha': trial.suggest_float('reg_alpha', 1e-3, 10.0, log=True),\n",
    "                'reg_lambda': trial.suggest_float('reg_lambda', 1e-3, 10.0, log=True),\n",
    "                #'scale_pos_weight': trial.suggest_float('scale_pos_weight', 0.5, 5.0),\n",
    "                'scale_pos_weight': trial.suggest_categorical('scale_pos_weight', [None, ratio]),\n",
    "                'verbosity': -1\n",
    "            }\n",
    "            clf = lgb.LGBMClassifier(**params, random_state=seed)\n",
    "    \n",
    "        # training\n",
    "        clf.fit(X_train, Y_train)\n",
    "        # prediction and evaluation\n",
    "        _, _, _, pAUC = evaluate_model(clf, X_valid, Y_valid)\n",
    "        return pAUC\n",
    "\n",
    "    # Optuna optimization\n",
    "    study = optuna.create_study(direction='maximize') # maximize pAUC\n",
    "    study.optimize(objective, n_trials=50, timeout=600)\n",
    "\n",
    "    return study"
   ]
  },
  {
   "cell_type": "markdown",
   "metadata": {},
   "source": [
    "## 4. Model Training"
   ]
  },
  {
   "cell_type": "code",
   "execution_count": 8,
   "metadata": {
    "execution": {
     "iopub.execute_input": "2025-04-27T20:53:19.010795Z",
     "iopub.status.busy": "2025-04-27T20:53:19.010428Z",
     "iopub.status.idle": "2025-04-27T20:53:19.018137Z",
     "shell.execute_reply": "2025-04-27T20:53:19.016662Z",
     "shell.execute_reply.started": "2025-04-27T20:53:19.010766Z"
    },
    "trusted": true
   },
   "outputs": [],
   "source": [
    "def evaluate_model(clf, X_test, Y_test, min_tpr=0.8, show_scores=False):\n",
    "    # predictions\n",
    "    Y_pred = clf.predict(X_test)\n",
    "    Y_probs = clf.predict_proba(X_test)[:, 1]\n",
    "\n",
    "    # AUROC\n",
    "    auroc = roc_auc_score(Y_test, Y_probs)\n",
    "    \n",
    "    # AUPRC\n",
    "    auprc = average_precision_score(Y_test, Y_probs)\n",
    "    \n",
    "    # F1 score\n",
    "    f1 = f1_score(Y_test, Y_pred)\n",
    "\n",
    "    # partial AUC\n",
    "    v_gt = abs(np.asarray(Y_test) - 1)\n",
    "    v_pred = np.array([1.0 - x for x in Y_probs])\n",
    "    max_fpr = abs(1 - min_tpr)\n",
    "    partial_auc_scaled = roc_auc_score(v_gt, v_pred, max_fpr=0.8)\n",
    "    partial_auc = 0.5 * max_fpr**2 + (max_fpr - 0.5 * max_fpr**2) / (1.0 - 0.5) * (partial_auc_scaled - 0.5)\n",
    "\n",
    "    if show_scores:\n",
    "        print(f\"AUROC: {auroc:.4f}\")\n",
    "        print(f\"AUPRC: {auprc:.4f}\")\n",
    "        print(f\"F1 Score: {f1:.4f}\")\n",
    "        print(f\"pAUC at {min_tpr}: {partial_auc:.4f}\")\n",
    "\n",
    "    return auroc, auprc, f1, partial_auc"
   ]
  },
  {
   "cell_type": "code",
   "execution_count": 32,
   "metadata": {
    "collapsed": true,
    "execution": {
     "iopub.execute_input": "2025-04-22T01:02:21.227040Z",
     "iopub.status.busy": "2025-04-22T01:02:21.226683Z",
     "iopub.status.idle": "2025-04-22T01:12:34.822265Z",
     "shell.execute_reply": "2025-04-22T01:12:34.820967Z",
     "shell.execute_reply.started": "2025-04-22T01:02:21.227009Z"
    },
    "jupyter": {
     "outputs_hidden": true
    },
    "trusted": true
   },
   "outputs": [
    {
     "name": "stderr",
     "output_type": "stream",
     "text": [
      "[I 2025-04-22 01:02:21,228] A new study created in memory with name: no-name-40c64e27-a123-48e2-bb79-63c90bee1a79\n",
      "[I 2025-04-22 01:02:28,406] Trial 0 finished with value: 0.17419546518514334 and parameters: {'lambda': 0.0015019471339901681, 'alpha': 0.10102669176703379, 'max_depth': 10, 'eta': 0.046468334255844575, 'gamma': 0.024052681212082015, 'min_child_weight': 4.083995016209901e-05, 'subsample': 0.505773648653792, 'colsample_bytree': 0.6765274623725224, 'n_estimators': 116, 'scale_pos_weight': None}. Best is trial 0 with value: 0.17419546518514334.\n",
      "[I 2025-04-22 01:02:31,903] Trial 1 finished with value: 0.07373623551143574 and parameters: {'lambda': 0.007511152102032316, 'alpha': 1.5371367917142942, 'max_depth': 12, 'eta': 0.008778468121347163, 'gamma': 4.340983339787114, 'min_child_weight': 6.421381699602577, 'subsample': 0.81571511270474, 'colsample_bytree': 0.9570039683159998, 'n_estimators': 61, 'scale_pos_weight': None}. Best is trial 0 with value: 0.17419546518514334.\n",
      "[I 2025-04-22 01:02:49,398] Trial 2 finished with value: 0.17172223553963722 and parameters: {'lambda': 1.4870242343398414, 'alpha': 2.4643349753849645e-08, 'max_depth': 11, 'eta': 0.046043310221095826, 'gamma': 0.0002214951032161612, 'min_child_weight': 0.008891819362064908, 'subsample': 0.5174547816202482, 'colsample_bytree': 0.6742532902473618, 'n_estimators': 255, 'scale_pos_weight': 1018.6398305084746}. Best is trial 0 with value: 0.17419546518514334.\n",
      "[I 2025-04-22 01:02:54,840] Trial 3 finished with value: 0.16743077568459347 and parameters: {'lambda': 0.23036715491519247, 'alpha': 1.5732917890505222e-08, 'max_depth': 6, 'eta': 0.004522588656608681, 'gamma': 0.2420612628911675, 'min_child_weight': 0.0009595134338475122, 'subsample': 0.8288822707630439, 'colsample_bytree': 0.796971740037572, 'n_estimators': 131, 'scale_pos_weight': None}. Best is trial 0 with value: 0.17419546518514334.\n",
      "[I 2025-04-22 01:03:05,232] Trial 4 finished with value: 0.1799795750021151 and parameters: {'lambda': 6.77032608473313e-05, 'alpha': 3.575915791314602e-08, 'max_depth': 4, 'eta': 0.058190091261987445, 'gamma': 1.132548747717812e-08, 'min_child_weight': 8.378655316483772e-05, 'subsample': 0.6758704447213009, 'colsample_bytree': 0.7599985476137519, 'n_estimators': 289, 'scale_pos_weight': None}. Best is trial 4 with value: 0.1799795750021151.\n",
      "[I 2025-04-22 01:03:14,207] Trial 5 finished with value: 0.17587624439493493 and parameters: {'lambda': 2.965811743386383e-06, 'alpha': 3.595628612266028e-05, 'max_depth': 8, 'eta': 0.015951722050360988, 'gamma': 9.255320758446722, 'min_child_weight': 0.16135771323108028, 'subsample': 0.886995383515836, 'colsample_bytree': 0.9803527951246302, 'n_estimators': 272, 'scale_pos_weight': None}. Best is trial 4 with value: 0.1799795750021151.\n",
      "[I 2025-04-22 01:03:24,514] Trial 6 finished with value: 0.1661811951831693 and parameters: {'lambda': 2.0832140707930157e-05, 'alpha': 2.601353169210619e-08, 'max_depth': 9, 'eta': 0.18166027057480455, 'gamma': 1.0398797714335366, 'min_child_weight': 0.13360548010745277, 'subsample': 0.9910088822000803, 'colsample_bytree': 0.9891300089385466, 'n_estimators': 347, 'scale_pos_weight': 1018.6398305084746}. Best is trial 4 with value: 0.1799795750021151.\n",
      "[I 2025-04-22 01:03:53,032] Trial 7 finished with value: 0.17866889929214017 and parameters: {'lambda': 6.684803801438731e-07, 'alpha': 0.026236725979540024, 'max_depth': 12, 'eta': 0.025400986261396745, 'gamma': 0.0029893993776052407, 'min_child_weight': 0.001956184031036283, 'subsample': 0.6852478236909176, 'colsample_bytree': 0.70301933575039, 'n_estimators': 460, 'scale_pos_weight': None}. Best is trial 4 with value: 0.1799795750021151.\n",
      "[I 2025-04-22 01:04:03,152] Trial 8 finished with value: 0.16830020587156996 and parameters: {'lambda': 0.0004697244012545418, 'alpha': 7.993575432216272e-07, 'max_depth': 4, 'eta': 0.003932361563012826, 'gamma': 3.569587563742554e-07, 'min_child_weight': 1.611984349729126e-07, 'subsample': 0.740390784169394, 'colsample_bytree': 0.8072420320418394, 'n_estimators': 403, 'scale_pos_weight': None}. Best is trial 4 with value: 0.1799795750021151.\n",
      "[I 2025-04-22 01:04:24,844] Trial 9 finished with value: 0.17252877266702385 and parameters: {'lambda': 0.000981876786835734, 'alpha': 2.3106925027824972e-08, 'max_depth': 8, 'eta': 0.006208232730285324, 'gamma': 0.13590810885847204, 'min_child_weight': 2.876517181413353e-05, 'subsample': 0.5891940517406768, 'colsample_bytree': 0.8434502141433392, 'n_estimators': 343, 'scale_pos_weight': 1018.6398305084746}. Best is trial 4 with value: 0.1799795750021151.\n",
      "[I 2025-04-22 01:04:31,784] Trial 10 finished with value: 0.1672113955554302 and parameters: {'lambda': 5.2657006001636105e-08, 'alpha': 0.00010830260800034631, 'max_depth': 3, 'eta': 0.2791679583089547, 'gamma': 9.048524344848214e-08, 'min_child_weight': 3.8921691358590214e-08, 'subsample': 0.6526249573335151, 'colsample_bytree': 0.5223536344912805, 'n_estimators': 197, 'scale_pos_weight': 1018.6398305084746}. Best is trial 4 with value: 0.1799795750021151.\n",
      "[I 2025-04-22 01:04:44,970] Trial 11 finished with value: 0.17078349290730138 and parameters: {'lambda': 2.129084562106385e-07, 'alpha': 0.0066380340259817846, 'max_depth': 6, 'eta': 0.0014192724389137346, 'gamma': 4.96921245404189e-05, 'min_child_weight': 3.0082576934627568e-06, 'subsample': 0.6735216239819733, 'colsample_bytree': 0.6808491825618846, 'n_estimators': 449, 'scale_pos_weight': None}. Best is trial 4 with value: 0.1799795750021151.\n",
      "[I 2025-04-22 01:05:03,632] Trial 12 finished with value: 0.17947323669590226 and parameters: {'lambda': 2.161129453204583e-06, 'alpha': 0.0038754359169644636, 'max_depth': 5, 'eta': 0.04944445004777244, 'gamma': 4.124401369054409e-06, 'min_child_weight': 0.0008954321163915623, 'subsample': 0.6926592377397357, 'colsample_bytree': 0.5887576988144831, 'n_estimators': 496, 'scale_pos_weight': None}. Best is trial 4 with value: 0.1799795750021151.\n",
      "[I 2025-04-22 01:05:24,103] Trial 13 finished with value: 0.019996006655574015 and parameters: {'lambda': 2.1656115636335143e-05, 'alpha': 6.502263555454251e-06, 'max_depth': 5, 'eta': 0.110366404414937, 'gamma': 1.0595569854470915e-08, 'min_child_weight': 3.684046246359918e-05, 'subsample': 0.6006927174889851, 'colsample_bytree': 0.5546238527142706, 'n_estimators': 490, 'scale_pos_weight': None}. Best is trial 4 with value: 0.1799795750021151.\n",
      "[I 2025-04-22 01:05:34,437] Trial 14 finished with value: 0.1741403028850221 and parameters: {'lambda': 1.2717683002093432e-05, 'alpha': 0.001553188806990268, 'max_depth': 3, 'eta': 0.058931390333881686, 'gamma': 5.739703170143826e-06, 'min_child_weight': 2.358918887754337e-06, 'subsample': 0.7523457579737859, 'colsample_bytree': 0.597454884723049, 'n_estimators': 353, 'scale_pos_weight': None}. Best is trial 4 with value: 0.1799795750021151.\n",
      "[I 2025-04-22 01:05:44,060] Trial 15 finished with value: 0.17379799204715307 and parameters: {'lambda': 1.4249017507536383e-08, 'alpha': 6.0353207669161995, 'max_depth': 6, 'eta': 0.08980479451766428, 'gamma': 3.3908733411104075e-06, 'min_child_weight': 0.026442370838628226, 'subsample': 0.7442034097806961, 'colsample_bytree': 0.9003979233866608, 'n_estimators': 212, 'scale_pos_weight': None}. Best is trial 4 with value: 0.1799795750021151.\n",
      "[I 2025-04-22 01:05:57,036] Trial 16 finished with value: 0.17781456047829883 and parameters: {'lambda': 0.030040348585956868, 'alpha': 1.4710810288041464e-06, 'max_depth': 5, 'eta': 0.017917493077427665, 'gamma': 2.9408567621128436e-08, 'min_child_weight': 0.0002671764935208968, 'subsample': 0.590946805364728, 'colsample_bytree': 0.592516772319712, 'n_estimators': 401, 'scale_pos_weight': None}. Best is trial 4 with value: 0.1799795750021151.\n",
      "[I 2025-04-22 01:06:07,280] Trial 17 finished with value: 0.1797676929693448 and parameters: {'lambda': 8.500641896130538e-05, 'alpha': 0.13957855012307552, 'max_depth': 4, 'eta': 0.030558790145135576, 'gamma': 9.63849620753291e-07, 'min_child_weight': 2.5035819919037164e-06, 'subsample': 0.8266749150324179, 'colsample_bytree': 0.7640274864239249, 'n_estimators': 307, 'scale_pos_weight': None}. Best is trial 4 with value: 0.1799795750021151.\n",
      "[I 2025-04-22 01:06:17,452] Trial 18 finished with value: 0.17549186384274787 and parameters: {'lambda': 8.852583048739733e-05, 'alpha': 0.3825666037399803, 'max_depth': 4, 'eta': 0.025698827863848042, 'gamma': 3.4735101397107596e-07, 'min_child_weight': 2.721370886993553e-07, 'subsample': 0.9237253346254457, 'colsample_bytree': 0.7349122362951452, 'n_estimators': 290, 'scale_pos_weight': 1018.6398305084746}. Best is trial 4 with value: 0.1799795750021151.\n",
      "[I 2025-04-22 01:06:26,112] Trial 19 finished with value: 0.16840572915197824 and parameters: {'lambda': 0.0001305520795629416, 'alpha': 0.0005084026350958455, 'max_depth': 7, 'eta': 0.010972876997474198, 'gamma': 3.3568299543226305e-07, 'min_child_weight': 2.4353327935754272e-06, 'subsample': 0.823625197175773, 'colsample_bytree': 0.7708451449631045, 'n_estimators': 218, 'scale_pos_weight': None}. Best is trial 4 with value: 0.1799795750021151.\n",
      "[I 2025-04-22 01:06:38,995] Trial 20 finished with value: 0.17755287797174193 and parameters: {'lambda': 9.1752920843711, 'alpha': 2.140301390357655e-07, 'max_depth': 4, 'eta': 0.12473518761052706, 'gamma': 1.746190292673277e-05, 'min_child_weight': 4.6497082328910477e-07, 'subsample': 0.8837248376136975, 'colsample_bytree': 0.8900259687947566, 'n_estimators': 312, 'scale_pos_weight': None}. Best is trial 4 with value: 0.1799795750021151.\n",
      "[I 2025-04-22 01:06:53,511] Trial 21 finished with value: 0.17867609069629703 and parameters: {'lambda': 9.372871095854638e-07, 'alpha': 0.006836661019905318, 'max_depth': 5, 'eta': 0.03840200187142453, 'gamma': 1.3354999278807934e-06, 'min_child_weight': 0.0002171676242659341, 'subsample': 0.7064302323112036, 'colsample_bytree': 0.616244782311608, 'n_estimators': 396, 'scale_pos_weight': None}. Best is trial 4 with value: 0.1799795750021151.\n",
      "[I 2025-04-22 01:07:09,841] Trial 22 finished with value: 0.01999999999999999 and parameters: {'lambda': 2.73693401651668e-06, 'alpha': 0.10979877406424646, 'max_depth': 3, 'eta': 0.07558582550486313, 'gamma': 9.607048534068535e-05, 'min_child_weight': 3.508963556509378e-05, 'subsample': 0.7970742980146706, 'colsample_bytree': 0.737047362315027, 'n_estimators': 500, 'scale_pos_weight': None}. Best is trial 4 with value: 0.1799795750021151.\n",
      "[I 2025-04-22 01:07:15,400] Trial 23 finished with value: 0.17702124284384776 and parameters: {'lambda': 7.620705715151182e-05, 'alpha': 0.0037540072888868504, 'max_depth': 4, 'eta': 0.02881520518843665, 'gamma': 8.068503176214522e-08, 'min_child_weight': 1.025567601271691e-08, 'subsample': 0.6434563233500382, 'colsample_bytree': 0.8372097301826696, 'n_estimators': 154, 'scale_pos_weight': None}. Best is trial 4 with value: 0.1799795750021151.\n",
      "[I 2025-04-22 01:07:27,432] Trial 24 finished with value: 0.1774384711920809 and parameters: {'lambda': 0.006998466496735473, 'alpha': 0.00019735417608274694, 'max_depth': 7, 'eta': 0.1713602548879291, 'gamma': 0.0009865270432002728, 'min_child_weight': 7.392444283202808e-06, 'subsample': 0.7772852093455895, 'colsample_bytree': 0.6472922990412084, 'n_estimators': 246, 'scale_pos_weight': None}. Best is trial 4 with value: 0.1799795750021151.\n",
      "[I 2025-04-22 01:07:40,711] Trial 25 finished with value: 0.13952043909867734 and parameters: {'lambda': 5.537580669961066e-06, 'alpha': 0.03495924369989258, 'max_depth': 5, 'eta': 0.06212640134724773, 'gamma': 1.2137884238648818e-06, 'min_child_weight': 0.003042833813744145, 'subsample': 0.6229742344159181, 'colsample_bytree': 0.7665104873864715, 'n_estimators': 312, 'scale_pos_weight': None}. Best is trial 4 with value: 0.1799795750021151.\n",
      "[I 2025-04-22 01:07:51,784] Trial 26 finished with value: 0.1784414394088948 and parameters: {'lambda': 1.442498700288009e-07, 'alpha': 9.28514479119468e-06, 'max_depth': 3, 'eta': 0.017242369714410764, 'gamma': 6.285776285742454e-06, 'min_child_weight': 0.0005504131311195729, 'subsample': 0.7164985119369447, 'colsample_bytree': 0.7252346613614804, 'n_estimators': 376, 'scale_pos_weight': 1018.6398305084746}. Best is trial 4 with value: 0.1799795750021151.\n",
      "[I 2025-04-22 01:08:09,490] Trial 27 finished with value: 0.1777341648100623 and parameters: {'lambda': 4.7409844111316055e-05, 'alpha': 0.9289315877765459, 'max_depth': 6, 'eta': 0.03543240776141176, 'gamma': 1.3534109102753915e-08, 'min_child_weight': 0.0001109160072262301, 'subsample': 0.8784838665548388, 'colsample_bytree': 0.6446303541583498, 'n_estimators': 433, 'scale_pos_weight': None}. Best is trial 4 with value: 0.1799795750021151.\n",
      "[I 2025-04-22 01:08:15,582] Trial 28 finished with value: 0.16808826038523364 and parameters: {'lambda': 7.221466051295759e-07, 'alpha': 0.0011997981599905316, 'max_depth': 4, 'eta': 0.0012722011285504987, 'gamma': 7.665712956895661e-08, 'min_child_weight': 0.0170050447760558, 'subsample': 0.5419780614358258, 'colsample_bytree': 0.5005819157962492, 'n_estimators': 180, 'scale_pos_weight': None}. Best is trial 4 with value: 0.1799795750021151.\n",
      "[I 2025-04-22 01:08:26,229] Trial 29 finished with value: 0.17640517217067594 and parameters: {'lambda': 0.005808465352071858, 'alpha': 0.06958954857938751, 'max_depth': 5, 'eta': 0.05069992415383284, 'gamma': 2.339702498689252e-05, 'min_child_weight': 7.53883448436107e-05, 'subsample': 0.770484845658866, 'colsample_bytree': 0.8591981793726429, 'n_estimators': 286, 'scale_pos_weight': None}. Best is trial 4 with value: 0.1799795750021151.\n",
      "[I 2025-04-22 01:08:30,638] Trial 30 finished with value: 0.16863237471445888 and parameters: {'lambda': 0.00024936602646880707, 'alpha': 0.22279143066792895, 'max_depth': 9, 'eta': 0.011784803415652974, 'gamma': 0.002942393616248665, 'min_child_weight': 1.7763830988155158e-05, 'subsample': 0.7060989566144703, 'colsample_bytree': 0.7955976885914838, 'n_estimators': 63, 'scale_pos_weight': None}. Best is trial 4 with value: 0.1799795750021151.\n",
      "[I 2025-04-22 01:08:44,900] Trial 31 finished with value: 0.18016887814095148 and parameters: {'lambda': 7.984677884964424e-07, 'alpha': 0.010748736124228725, 'max_depth': 5, 'eta': 0.034967961729980936, 'gamma': 1.562158355113773e-06, 'min_child_weight': 0.00017890051754994478, 'subsample': 0.691328612382127, 'colsample_bytree': 0.6324926617584629, 'n_estimators': 380, 'scale_pos_weight': None}. Best is trial 31 with value: 0.18016887814095148.\n",
      "[I 2025-04-22 01:08:55,954] Trial 32 finished with value: 0.17878637299416222 and parameters: {'lambda': 1.0069159498030827e-05, 'alpha': 0.009005068380162642, 'max_depth': 4, 'eta': 0.02220699206066118, 'gamma': 1.1962811162928064e-06, 'min_child_weight': 9.494304505974283e-06, 'subsample': 0.6536666903506522, 'colsample_bytree': 0.5582200568327943, 'n_estimators': 371, 'scale_pos_weight': None}. Best is trial 31 with value: 0.18016887814095148.\n",
      "[I 2025-04-22 01:09:07,199] Trial 33 finished with value: 0.17858249668631376 and parameters: {'lambda': 0.0015161769472076478, 'alpha': 4.86716528649913, 'max_depth': 5, 'eta': 0.03931584119157794, 'gamma': 2.376320068617038e-07, 'min_child_weight': 4.966527058178357, 'subsample': 0.8451353825206529, 'colsample_bytree': 0.6883894106180674, 'n_estimators': 310, 'scale_pos_weight': None}. Best is trial 31 with value: 0.18016887814095148.\n",
      "[I 2025-04-22 01:09:20,799] Trial 34 finished with value: 0.18388135593220334 and parameters: {'lambda': 1.4069625251841138e-06, 'alpha': 0.015071908186707606, 'max_depth': 7, 'eta': 0.076942260312489, 'gamma': 1.3268385163565498e-05, 'min_child_weight': 0.0028508966881418815, 'subsample': 0.557950137532864, 'colsample_bytree': 0.635464290868927, 'n_estimators': 250, 'scale_pos_weight': None}. Best is trial 34 with value: 0.18388135593220334.\n",
      "[I 2025-04-22 01:09:31,683] Trial 35 finished with value: 0.02569864770836485 and parameters: {'lambda': 1.448020115761333e-07, 'alpha': 0.02038304855074948, 'max_depth': 7, 'eta': 0.09122367454269971, 'gamma': 0.00026471953680145665, 'min_child_weight': 0.0042122489937217455, 'subsample': 0.5515708478129643, 'colsample_bytree': 0.6347549304376072, 'n_estimators': 242, 'scale_pos_weight': None}. Best is trial 34 with value: 0.18388135593220334.\n",
      "[I 2025-04-22 01:09:48,959] Trial 36 finished with value: 0.16605318818917617 and parameters: {'lambda': 3.6906712599454524e-05, 'alpha': 1.014064811044191, 'max_depth': 9, 'eta': 0.06865027599913572, 'gamma': 6.962630705703537e-05, 'min_child_weight': 9.414823626825391e-07, 'subsample': 0.5136467170255079, 'colsample_bytree': 0.7035687141024269, 'n_estimators': 269, 'scale_pos_weight': 1018.6398305084746}. Best is trial 34 with value: 0.18388135593220334.\n",
      "[I 2025-04-22 01:10:05,314] Trial 37 finished with value: 0.1776549218816097 and parameters: {'lambda': 0.0326924856481663, 'alpha': 0.23806440597751213, 'max_depth': 10, 'eta': 0.11767620924567929, 'gamma': 1.3302200495635206e-05, 'min_child_weight': 0.06252751738735376, 'subsample': 0.6262520200855127, 'colsample_bytree': 0.7668227587327243, 'n_estimators': 322, 'scale_pos_weight': None}. Best is trial 34 with value: 0.18388135593220334.\n",
      "[I 2025-04-22 01:10:16,335] Trial 38 finished with value: 0.021808985024958365 and parameters: {'lambda': 3.773430995120042e-07, 'alpha': 2.4614792890211243e-05, 'max_depth': 6, 'eta': 0.1535636492184662, 'gamma': 1.0187189266028602e-06, 'min_child_weight': 0.0001616078176042817, 'subsample': 0.543905731786094, 'colsample_bytree': 0.6680989471351263, 'n_estimators': 239, 'scale_pos_weight': None}. Best is trial 34 with value: 0.18388135593220334.\n",
      "[I 2025-04-22 01:10:31,368] Trial 39 finished with value: 0.1727724449364053 and parameters: {'lambda': 3.82794604226731e-08, 'alpha': 0.0005413801345807172, 'max_depth': 8, 'eta': 0.24284045843418353, 'gamma': 3.870938121931785e-08, 'min_child_weight': 0.5596416827101897, 'subsample': 0.9339996079607474, 'colsample_bytree': 0.7175214945562388, 'n_estimators': 340, 'scale_pos_weight': None}. Best is trial 34 with value: 0.18388135593220334.\n",
      "[I 2025-04-22 01:10:39,656] Trial 40 finished with value: 0.17775406807862595 and parameters: {'lambda': 0.0007755037448736567, 'alpha': 2.5218285141044563e-07, 'max_depth': 3, 'eta': 0.03262740636668116, 'gamma': 0.018178438754491655, 'min_child_weight': 0.0014647054152374663, 'subsample': 0.8416056504018934, 'colsample_bytree': 0.931626870420533, 'n_estimators': 267, 'scale_pos_weight': 1018.6398305084746}. Best is trial 34 with value: 0.18388135593220334.\n",
      "[I 2025-04-22 01:10:57,642] Trial 41 finished with value: 0.17893335260441637 and parameters: {'lambda': 1.955168230699602e-06, 'alpha': 0.0018371780060150783, 'max_depth': 6, 'eta': 0.04945023033790774, 'gamma': 2.8518381456839937e-06, 'min_child_weight': 0.0009513613658401353, 'subsample': 0.6754532022690936, 'colsample_bytree': 0.8034763866855412, 'n_estimators': 416, 'scale_pos_weight': None}. Best is trial 34 with value: 0.18388135593220334.\n",
      "[I 2025-04-22 01:11:14,059] Trial 42 finished with value: 0.1792556755689669 and parameters: {'lambda': 2.390557452574403e-06, 'alpha': 0.01565695899540007, 'max_depth': 4, 'eta': 0.04588093738846064, 'gamma': 8.706788653134483e-06, 'min_child_weight': 0.0005175176951795903, 'subsample': 0.6940570382842224, 'colsample_bytree': 0.5600086188511121, 'n_estimators': 454, 'scale_pos_weight': None}. Best is trial 34 with value: 0.18388135593220334.\n",
      "[I 2025-04-22 01:11:40,561] Trial 43 finished with value: 0.17878042951013848 and parameters: {'lambda': 5.954100785806967e-06, 'alpha': 0.05684218599557796, 'max_depth': 7, 'eta': 0.021597917841251292, 'gamma': 2.838860756211758e-05, 'min_child_weight': 0.005121513715948129, 'subsample': 0.72778708662913, 'colsample_bytree': 0.5832866913589132, 'n_estimators': 477, 'scale_pos_weight': None}. Best is trial 34 with value: 0.18388135593220334.\n",
      "[I 2025-04-22 01:11:51,478] Trial 44 finished with value: 0.17725976479878164 and parameters: {'lambda': 1.3802869492072814e-06, 'alpha': 9.385595748007925e-05, 'max_depth': 5, 'eta': 0.08851364128460781, 'gamma': 5.623081406546073e-07, 'min_child_weight': 0.01019503723677033, 'subsample': 0.7954098831689916, 'colsample_bytree': 0.6193440647695939, 'n_estimators': 282, 'scale_pos_weight': None}. Best is trial 34 with value: 0.18388135593220334.\n",
      "[I 2025-04-22 01:12:02,799] Trial 45 finished with value: 0.17613519839814995 and parameters: {'lambda': 0.00020914984952243845, 'alpha': 0.0029096046064843303, 'max_depth': 4, 'eta': 0.012890804524307754, 'gamma': 1.4411287033244568e-07, 'min_child_weight': 8.916617404166733e-05, 'subsample': 0.569197348253292, 'colsample_bytree': 0.6644935574982346, 'n_estimators': 373, 'scale_pos_weight': None}. Best is trial 34 with value: 0.18388135593220334.\n",
      "[I 2025-04-22 01:12:10,491] Trial 46 finished with value: 0.16980367466651622 and parameters: {'lambda': 2.3347523231412172e-05, 'alpha': 6.308202176146227e-08, 'max_depth': 6, 'eta': 0.006665673704506005, 'gamma': 2.8045307810439552e-06, 'min_child_weight': 0.0011410670906640973, 'subsample': 0.6663412641612924, 'colsample_bytree': 0.5704264166147064, 'n_estimators': 220, 'scale_pos_weight': None}. Best is trial 34 with value: 0.18388135593220334.\n",
      "[I 2025-04-22 01:12:34,817] Trial 47 finished with value: 0.17094330071350008 and parameters: {'lambda': 3.451528280217407e-07, 'alpha': 0.11293588678330599, 'max_depth': 11, 'eta': 0.058867295604192356, 'gamma': 0.0006914519980954885, 'min_child_weight': 8.93928112919799e-08, 'subsample': 0.6168001419818216, 'colsample_bytree': 0.5376534455785693, 'n_estimators': 328, 'scale_pos_weight': 1018.6398305084746}. Best is trial 34 with value: 0.18388135593220334.\n"
     ]
    }
   ],
   "source": [
    "study_xgb = hyperparameter_tuning(X_train, Y_train, X_valid, Y_valid, model=\"xgb\")"
   ]
  },
  {
   "cell_type": "code",
   "execution_count": 33,
   "metadata": {
    "collapsed": true,
    "execution": {
     "iopub.execute_input": "2025-04-22T01:12:34.824988Z",
     "iopub.status.busy": "2025-04-22T01:12:34.824538Z",
     "iopub.status.idle": "2025-04-22T01:22:57.410274Z",
     "shell.execute_reply": "2025-04-22T01:22:57.409202Z",
     "shell.execute_reply.started": "2025-04-22T01:12:34.824941Z"
    },
    "jupyter": {
     "outputs_hidden": true
    },
    "trusted": true
   },
   "outputs": [
    {
     "name": "stderr",
     "output_type": "stream",
     "text": [
      "[I 2025-04-22 01:12:34,826] A new study created in memory with name: no-name-ec911660-3626-4306-91b4-7085f953c9ce\n",
      "[I 2025-04-22 01:13:13,941] Trial 0 finished with value: 0.17812182379649732 and parameters: {'iterations': 851, 'learning_rate': 0.0037200870591674725, 'depth': 6, 'l2_leaf_reg': 4.285788495087914, 'bootstrap_type': 'Bernoulli', 'random_strength': 0.10837371707583308, 'border_count': 183, 'scale_pos_weight': None, 'subsample': 0.8237516445941734}. Best is trial 0 with value: 0.17812182379649732.\n",
      "[I 2025-04-22 01:14:05,659] Trial 1 finished with value: 0.1766268789305959 and parameters: {'iterations': 923, 'learning_rate': 0.014074350365508073, 'depth': 6, 'l2_leaf_reg': 3.975103397769698, 'bootstrap_type': 'Bayesian', 'random_strength': 0.1103763905033374, 'border_count': 160, 'scale_pos_weight': 1018.6398305084746, 'bagging_temperature': 1.04533256000498}. Best is trial 0 with value: 0.17812182379649732.\n",
      "[I 2025-04-22 01:14:36,819] Trial 2 finished with value: 0.15767672523195794 and parameters: {'iterations': 587, 'learning_rate': 0.11909224034345713, 'depth': 6, 'l2_leaf_reg': 2.4368886182614853, 'bootstrap_type': 'Bayesian', 'random_strength': 0.0013118198333480022, 'border_count': 145, 'scale_pos_weight': 1018.6398305084746, 'bagging_temperature': 7.423421403681805}. Best is trial 0 with value: 0.17812182379649732.\n",
      "[I 2025-04-22 01:14:51,550] Trial 3 finished with value: 0.17206095067542787 and parameters: {'iterations': 331, 'learning_rate': 0.004059750452355782, 'depth': 4, 'l2_leaf_reg': 2.388448126057665, 'bootstrap_type': 'MVS', 'random_strength': 1.7925037501754315, 'border_count': 235, 'scale_pos_weight': None}. Best is trial 0 with value: 0.17812182379649732.\n",
      "[I 2025-04-22 01:15:28,628] Trial 4 finished with value: 0.17579396627090438 and parameters: {'iterations': 641, 'learning_rate': 0.00152544537053648, 'depth': 7, 'l2_leaf_reg': 2.704499086030837, 'bootstrap_type': 'MVS', 'random_strength': 1.004285814811449, 'border_count': 123, 'scale_pos_weight': None}. Best is trial 0 with value: 0.17812182379649732.\n",
      "[I 2025-04-22 01:16:06,344] Trial 5 finished with value: 0.16708885614371521 and parameters: {'iterations': 821, 'learning_rate': 0.001184758844245388, 'depth': 5, 'l2_leaf_reg': 9.312106964224085, 'bootstrap_type': 'Bayesian', 'random_strength': 1.0053064412431152, 'border_count': 194, 'scale_pos_weight': None, 'bagging_temperature': 6.917277199727665}. Best is trial 0 with value: 0.17812182379649732.\n",
      "[I 2025-04-22 01:16:38,201] Trial 6 finished with value: 0.17778989819227833 and parameters: {'iterations': 183, 'learning_rate': 0.001983326514168143, 'depth': 10, 'l2_leaf_reg': 6.303842209132776, 'bootstrap_type': 'Bernoulli', 'random_strength': 0.6573590224195458, 'border_count': 249, 'scale_pos_weight': 1018.6398305084746, 'subsample': 0.6461644124916905}. Best is trial 0 with value: 0.17812182379649732.\n",
      "[I 2025-04-22 01:17:02,157] Trial 7 finished with value: 0.1795597239064835 and parameters: {'iterations': 430, 'learning_rate': 0.0019326846791100233, 'depth': 6, 'l2_leaf_reg': 4.090073713008957, 'bootstrap_type': 'Bayesian', 'random_strength': 0.5089611028585315, 'border_count': 104, 'scale_pos_weight': 1018.6398305084746, 'bagging_temperature': 3.794780797912339}. Best is trial 7 with value: 0.1795597239064835.\n",
      "[I 2025-04-22 01:18:08,123] Trial 8 finished with value: 0.17913987281085195 and parameters: {'iterations': 891, 'learning_rate': 0.005102106812229301, 'depth': 9, 'l2_leaf_reg': 2.5979858685906376, 'bootstrap_type': 'Bayesian', 'random_strength': 0.03012326531135049, 'border_count': 119, 'scale_pos_weight': None, 'bagging_temperature': 1.2940423572367554}. Best is trial 7 with value: 0.1795597239064835.\n",
      "[I 2025-04-22 01:18:50,510] Trial 9 finished with value: 0.17053671141318139 and parameters: {'iterations': 897, 'learning_rate': 0.035472277700376524, 'depth': 5, 'l2_leaf_reg': 6.296467690483666, 'bootstrap_type': 'Bayesian', 'random_strength': 0.3095033876387158, 'border_count': 193, 'scale_pos_weight': 1018.6398305084746, 'bagging_temperature': 7.949643863437792}. Best is trial 7 with value: 0.1795597239064835.\n",
      "[I 2025-04-22 01:19:09,927] Trial 10 finished with value: 0.17068806931949576 and parameters: {'iterations': 377, 'learning_rate': 0.015987469169844695, 'depth': 8, 'l2_leaf_reg': 8.589244184778924, 'bootstrap_type': 'Bernoulli', 'random_strength': 8.877695222809045, 'border_count': 54, 'scale_pos_weight': 1018.6398305084746, 'subsample': 0.5370336335291237}. Best is trial 7 with value: 0.1795597239064835.\n",
      "[I 2025-04-22 01:19:41,386] Trial 11 finished with value: 0.1775860853379959 and parameters: {'iterations': 438, 'learning_rate': 0.006339756039576706, 'depth': 9, 'l2_leaf_reg': 1.1920451022789145, 'bootstrap_type': 'Bayesian', 'random_strength': 0.008950019109516077, 'border_count': 89, 'scale_pos_weight': None, 'bagging_temperature': 1.8763699424979774}. Best is trial 7 with value: 0.1795597239064835.\n",
      "[I 2025-04-22 01:20:22,379] Trial 12 finished with value: 0.17798013198341747 and parameters: {'iterations': 695, 'learning_rate': 0.0073251542957795575, 'depth': 8, 'l2_leaf_reg': 4.772366208167298, 'bootstrap_type': 'Bayesian', 'random_strength': 0.015223040896718719, 'border_count': 102, 'scale_pos_weight': None, 'bagging_temperature': 3.897438721860467}. Best is trial 7 with value: 0.1795597239064835.\n",
      "[I 2025-04-22 01:21:48,314] Trial 13 finished with value: 0.16705894836289795 and parameters: {'iterations': 516, 'learning_rate': 0.04644010159225373, 'depth': 10, 'l2_leaf_reg': 1.0217542378734674, 'bootstrap_type': 'Bayesian', 'random_strength': 0.022280301652799685, 'border_count': 53, 'scale_pos_weight': 1018.6398305084746, 'bagging_temperature': 3.6631300070400212}. Best is trial 7 with value: 0.1795597239064835.\n",
      "[I 2025-04-22 01:22:03,289] Trial 14 finished with value: 0.17910757494571194 and parameters: {'iterations': 221, 'learning_rate': 0.0029178313585700904, 'depth': 8, 'l2_leaf_reg': 3.1188051910032444, 'bootstrap_type': 'MVS', 'random_strength': 0.04556842042905543, 'border_count': 84, 'scale_pos_weight': 1018.6398305084746}. Best is trial 7 with value: 0.1795597239064835.\n",
      "[I 2025-04-22 01:22:57,405] Trial 15 finished with value: 0.1822362164753659 and parameters: {'iterations': 740, 'learning_rate': 0.008298410455250049, 'depth': 9, 'l2_leaf_reg': 5.491192009939281, 'bootstrap_type': 'Bayesian', 'random_strength': 0.001712233229259477, 'border_count': 115, 'scale_pos_weight': None, 'bagging_temperature': 0.38808808430142516}. Best is trial 15 with value: 0.1822362164753659.\n"
     ]
    }
   ],
   "source": [
    "study_cat = hyperparameter_tuning(X_train, Y_train, X_valid, Y_valid, model=\"cat\")"
   ]
  },
  {
   "cell_type": "code",
   "execution_count": 34,
   "metadata": {
    "collapsed": true,
    "execution": {
     "iopub.execute_input": "2025-04-22T01:22:57.412060Z",
     "iopub.status.busy": "2025-04-22T01:22:57.411755Z",
     "iopub.status.idle": "2025-04-22T01:32:59.634137Z",
     "shell.execute_reply": "2025-04-22T01:32:59.632968Z",
     "shell.execute_reply.started": "2025-04-22T01:22:57.412031Z"
    },
    "jupyter": {
     "outputs_hidden": true
    },
    "trusted": true
   },
   "outputs": [
    {
     "name": "stderr",
     "output_type": "stream",
     "text": [
      "[I 2025-04-22 01:22:57,413] A new study created in memory with name: no-name-75c79c7a-b401-43db-9483-8a6461c0bc64\n",
      "[I 2025-04-22 01:23:43,717] Trial 0 finished with value: 0.17684056938999973 and parameters: {'n_estimators': 906, 'learning_rate': 0.022844961471150563, 'num_leaves': 254, 'max_depth': 9, 'min_child_samples': 10, 'subsample': 0.7323663097435247, 'colsample_bytree': 0.6524451252850628, 'reg_alpha': 0.006866653418055607, 'reg_lambda': 0.6953459817229648, 'scale_pos_weight': None}. Best is trial 0 with value: 0.17684056938999973.\n",
      "[I 2025-04-22 01:24:05,522] Trial 1 finished with value: 0.17544770016074904 and parameters: {'n_estimators': 593, 'learning_rate': 0.2026221686303442, 'num_leaves': 120, 'max_depth': 6, 'min_child_samples': 18, 'subsample': 0.7709682839001166, 'colsample_bytree': 0.7451953303426103, 'reg_alpha': 0.028728391358643635, 'reg_lambda': 3.4271708585570684, 'scale_pos_weight': None}. Best is trial 0 with value: 0.17684056938999973.\n",
      "[I 2025-04-22 01:24:11,458] Trial 2 finished with value: 0.06609731028822594 and parameters: {'n_estimators': 288, 'learning_rate': 0.2845016659316935, 'num_leaves': 128, 'max_depth': 4, 'min_child_samples': 23, 'subsample': 0.7956702870429258, 'colsample_bytree': 0.7167692654185277, 'reg_alpha': 0.0019700429918299888, 'reg_lambda': 0.018980169448069743, 'scale_pos_weight': 1018.6398305084746}. Best is trial 0 with value: 0.17684056938999973.\n",
      "[I 2025-04-22 01:24:34,970] Trial 3 finished with value: 0.08606531487069569 and parameters: {'n_estimators': 350, 'learning_rate': 0.01717762564584401, 'num_leaves': 240, 'max_depth': 15, 'min_child_samples': 7, 'subsample': 0.571104250090382, 'colsample_bytree': 0.720391454739539, 'reg_alpha': 0.020414790717759194, 'reg_lambda': 0.844241142929155, 'scale_pos_weight': 1018.6398305084746}. Best is trial 0 with value: 0.17684056938999973.\n",
      "[I 2025-04-22 01:24:52,625] Trial 4 finished with value: 0.15557262613158854 and parameters: {'n_estimators': 403, 'learning_rate': 0.004201242539946739, 'num_leaves': 90, 'max_depth': 12, 'min_child_samples': 36, 'subsample': 0.7115980243592016, 'colsample_bytree': 0.5141732766321012, 'reg_alpha': 1.1404789264923993, 'reg_lambda': 0.0014227313686916993, 'scale_pos_weight': 1018.6398305084746}. Best is trial 0 with value: 0.17684056938999973.\n",
      "[I 2025-04-22 01:25:19,137] Trial 5 finished with value: 0.17837123861361007 and parameters: {'n_estimators': 956, 'learning_rate': 0.0038538292026483877, 'num_leaves': 20, 'max_depth': 15, 'min_child_samples': 48, 'subsample': 0.8671218562738214, 'colsample_bytree': 0.6627711097145126, 'reg_alpha': 1.1064848473016433, 'reg_lambda': 1.432326890422057, 'scale_pos_weight': None}. Best is trial 5 with value: 0.17837123861361007.\n",
      "[I 2025-04-22 01:25:40,587] Trial 6 finished with value: 0.1776647254575707 and parameters: {'n_estimators': 507, 'learning_rate': 0.005438837757701515, 'num_leaves': 115, 'max_depth': 9, 'min_child_samples': 13, 'subsample': 0.9269965355956675, 'colsample_bytree': 0.7260885032596271, 'reg_alpha': 0.146294155300563, 'reg_lambda': 0.0024978813011675804, 'scale_pos_weight': None}. Best is trial 5 with value: 0.17837123861361007.\n",
      "[I 2025-04-22 01:25:47,961] Trial 7 finished with value: 0.07278918708931437 and parameters: {'n_estimators': 190, 'learning_rate': 0.03147062045702434, 'num_leaves': 195, 'max_depth': 9, 'min_child_samples': 5, 'subsample': 0.889743637182642, 'colsample_bytree': 0.5020044068404277, 'reg_alpha': 1.1774307554254884, 'reg_lambda': 0.002518575529775633, 'scale_pos_weight': 1018.6398305084746}. Best is trial 5 with value: 0.17837123861361007.\n",
      "[I 2025-04-22 01:25:57,222] Trial 8 finished with value: 0.07602351673001859 and parameters: {'n_estimators': 600, 'learning_rate': 0.2504279683377492, 'num_leaves': 162, 'max_depth': 4, 'min_child_samples': 38, 'subsample': 0.7432671243558164, 'colsample_bytree': 0.6969851929596715, 'reg_alpha': 0.051491935304030886, 'reg_lambda': 0.0042321907424839236, 'scale_pos_weight': 1018.6398305084746}. Best is trial 5 with value: 0.17837123861361007.\n",
      "[I 2025-04-22 01:26:04,654] Trial 9 finished with value: 0.1578279350799515 and parameters: {'n_estimators': 111, 'learning_rate': 0.003783799721215623, 'num_leaves': 198, 'max_depth': 12, 'min_child_samples': 79, 'subsample': 0.7028885036976813, 'colsample_bytree': 0.9326655789164496, 'reg_alpha': 0.8419590066707261, 'reg_lambda': 0.0013217264642016717, 'scale_pos_weight': 1018.6398305084746}. Best is trial 5 with value: 0.17837123861361007.\n",
      "[I 2025-04-22 01:26:28,606] Trial 10 finished with value: 0.1769176760483939 and parameters: {'n_estimators': 984, 'learning_rate': 0.0010288668174594745, 'num_leaves': 16, 'max_depth': 15, 'min_child_samples': 72, 'subsample': 0.9865125984013463, 'colsample_bytree': 0.8829859484381981, 'reg_alpha': 7.256697154152514, 'reg_lambda': 0.11933192645942833, 'scale_pos_weight': None}. Best is trial 5 with value: 0.17837123861361007.\n",
      "[I 2025-04-22 01:26:47,682] Trial 11 finished with value: 0.17928793113172956 and parameters: {'n_estimators': 719, 'learning_rate': 0.004510684980023148, 'num_leaves': 20, 'max_depth': 12, 'min_child_samples': 60, 'subsample': 0.9164475297168606, 'colsample_bytree': 0.6167364036741582, 'reg_alpha': 0.22807900531381978, 'reg_lambda': 9.577738436374, 'scale_pos_weight': None}. Best is trial 11 with value: 0.17928793113172956.\n",
      "[I 2025-04-22 01:27:07,184] Trial 12 finished with value: 0.18026993852054482 and parameters: {'n_estimators': 792, 'learning_rate': 0.0012839343142763892, 'num_leaves': 22, 'max_depth': 12, 'min_child_samples': 61, 'subsample': 0.8657966070256292, 'colsample_bytree': 0.6026459202153955, 'reg_alpha': 0.21511399856388563, 'reg_lambda': 7.018544801460581, 'scale_pos_weight': None}. Best is trial 12 with value: 0.18026993852054482.\n",
      "[I 2025-04-22 01:27:32,762] Trial 13 finished with value: 0.18017351025127606 and parameters: {'n_estimators': 770, 'learning_rate': 0.001084664965630002, 'num_leaves': 61, 'max_depth': 12, 'min_child_samples': 98, 'subsample': 0.9902721479922053, 'colsample_bytree': 0.5899579302400142, 'reg_alpha': 0.132652943041061, 'reg_lambda': 5.2934528103285725, 'scale_pos_weight': None}. Best is trial 12 with value: 0.18026993852054482.\n",
      "[I 2025-04-22 01:27:56,780] Trial 14 finished with value: 0.17756493414929908 and parameters: {'n_estimators': 793, 'learning_rate': 0.001012647114433983, 'num_leaves': 64, 'max_depth': 11, 'min_child_samples': 97, 'subsample': 0.9796395889458547, 'colsample_bytree': 0.5732277192152224, 'reg_alpha': 0.32176747176357884, 'reg_lambda': 0.19914568520923653, 'scale_pos_weight': None}. Best is trial 12 with value: 0.18026993852054482.\n",
      "[I 2025-04-22 01:28:23,480] Trial 15 finished with value: 0.17963937928311566 and parameters: {'n_estimators': 756, 'learning_rate': 0.0019345621794988424, 'num_leaves': 59, 'max_depth': 13, 'min_child_samples': 98, 'subsample': 0.8388145435029655, 'colsample_bytree': 0.8200706437331439, 'reg_alpha': 3.969703176542638, 'reg_lambda': 7.629134717093564, 'scale_pos_weight': None}. Best is trial 12 with value: 0.18026993852054482.\n",
      "[I 2025-04-22 01:28:49,780] Trial 16 finished with value: 0.17976195042161364 and parameters: {'n_estimators': 837, 'learning_rate': 0.0018271455254948185, 'num_leaves': 56, 'max_depth': 7, 'min_child_samples': 85, 'subsample': 0.9961431684216975, 'colsample_bytree': 0.5736711026197526, 'reg_alpha': 0.07843176866715636, 'reg_lambda': 2.9371345795812727, 'scale_pos_weight': None}. Best is trial 12 with value: 0.18026993852054482.\n",
      "[I 2025-04-22 01:29:24,708] Trial 17 finished with value: 0.17702132744860252 and parameters: {'n_estimators': 710, 'learning_rate': 0.010608033219362264, 'num_leaves': 86, 'max_depth': 10, 'min_child_samples': 65, 'subsample': 0.5443124183452723, 'colsample_bytree': 0.8049903515464629, 'reg_alpha': 0.013135376777178239, 'reg_lambda': 0.3565485862945057, 'scale_pos_weight': None}. Best is trial 12 with value: 0.18026993852054482.\n",
      "[I 2025-04-22 01:29:39,322] Trial 18 finished with value: 0.16646051778109924 and parameters: {'n_estimators': 653, 'learning_rate': 0.0766247518710984, 'num_leaves': 44, 'max_depth': 13, 'min_child_samples': 87, 'subsample': 0.6304125782437437, 'colsample_bytree': 0.5882823160577537, 'reg_alpha': 0.2849558630404054, 'reg_lambda': 0.024160014371116686, 'scale_pos_weight': None}. Best is trial 12 with value: 0.18026993852054482.\n",
      "[I 2025-04-22 01:30:10,954] Trial 19 finished with value: 0.17578533658591602 and parameters: {'n_estimators': 877, 'learning_rate': 0.0019189245290468816, 'num_leaves': 91, 'max_depth': 7, 'min_child_samples': 52, 'subsample': 0.818333402030514, 'colsample_bytree': 0.9877275032926067, 'reg_alpha': 0.004836221943560376, 'reg_lambda': 2.5201986611676537, 'scale_pos_weight': None}. Best is trial 12 with value: 0.18026993852054482.\n",
      "[I 2025-04-22 01:30:28,143] Trial 20 finished with value: 0.17896518514340506 and parameters: {'n_estimators': 496, 'learning_rate': 0.008772935672391019, 'num_leaves': 40, 'max_depth': 14, 'min_child_samples': 73, 'subsample': 0.9362985038338197, 'colsample_bytree': 0.5416378149370258, 'reg_alpha': 0.05166376938888745, 'reg_lambda': 0.04197770350254598, 'scale_pos_weight': None}. Best is trial 12 with value: 0.18026993852054482.\n",
      "[I 2025-04-22 01:30:54,557] Trial 21 finished with value: 0.18010256916438705 and parameters: {'n_estimators': 826, 'learning_rate': 0.0018892175083955777, 'num_leaves': 66, 'max_depth': 7, 'min_child_samples': 85, 'subsample': 0.9924380250569004, 'colsample_bytree': 0.6092955635361214, 'reg_alpha': 0.08588706874177174, 'reg_lambda': 3.9976850286411594, 'scale_pos_weight': None}. Best is trial 12 with value: 0.18026993852054482.\n",
      "[I 2025-04-22 01:31:16,546] Trial 22 finished with value: 0.17989333103020388 and parameters: {'n_estimators': 828, 'learning_rate': 0.0017435367742042432, 'num_leaves': 75, 'max_depth': 6, 'min_child_samples': 90, 'subsample': 0.956125658558705, 'colsample_bytree': 0.6375676883185374, 'reg_alpha': 0.10519626901087033, 'reg_lambda': 5.0890183926813535, 'scale_pos_weight': None}. Best is trial 12 with value: 0.18026993852054482.\n",
      "[I 2025-04-22 01:31:37,747] Trial 23 finished with value: 0.17829904960658788 and parameters: {'n_estimators': 689, 'learning_rate': 0.0026052601879386662, 'num_leaves': 45, 'max_depth': 10, 'min_child_samples': 79, 'subsample': 0.8802679123708415, 'colsample_bytree': 0.613877608194047, 'reg_alpha': 0.5043029251332649, 'reg_lambda': 1.478955710439472, 'scale_pos_weight': None}. Best is trial 12 with value: 0.18026993852054482.\n",
      "[I 2025-04-22 01:32:09,087] Trial 24 finished with value: 0.17936625398347383 and parameters: {'n_estimators': 909, 'learning_rate': 0.0010033077406717856, 'num_leaves': 102, 'max_depth': 8, 'min_child_samples': 100, 'subsample': 0.9538850430784696, 'colsample_bytree': 0.5432488414392489, 'reg_alpha': 0.17234494220023663, 'reg_lambda': 0.491164512349608, 'scale_pos_weight': None}. Best is trial 12 with value: 0.18026993852054482.\n",
      "[I 2025-04-22 01:32:30,262] Trial 25 finished with value: 0.1784570701373417 and parameters: {'n_estimators': 764, 'learning_rate': 0.0013725202607874191, 'num_leaves': 33, 'max_depth': 11, 'min_child_samples': 64, 'subsample': 0.9072121755909454, 'colsample_bytree': 0.6721299120998449, 'reg_alpha': 0.03917988630501946, 'reg_lambda': 1.56409280154986, 'scale_pos_weight': None}. Best is trial 12 with value: 0.18026993852054482.\n",
      "[I 2025-04-22 01:32:45,037] Trial 26 finished with value: 0.180210419075552 and parameters: {'n_estimators': 637, 'learning_rate': 0.0025415728642244435, 'num_leaves': 145, 'max_depth': 5, 'min_child_samples': 92, 'subsample': 0.8421704879200282, 'colsample_bytree': 0.6031540024047631, 'reg_alpha': 2.553771514947487, 'reg_lambda': 5.2997951732569035, 'scale_pos_weight': None}. Best is trial 12 with value: 0.18026993852054482.\n",
      "[I 2025-04-22 01:32:59,629] Trial 27 finished with value: 0.1784818170281169 and parameters: {'n_estimators': 639, 'learning_rate': 0.007754680170803183, 'num_leaves': 153, 'max_depth': 3, 'min_child_samples': 92, 'subsample': 0.8479314753963657, 'colsample_bytree': 0.7960725260055698, 'reg_alpha': 1.815153640081928, 'reg_lambda': 9.74043035096988, 'scale_pos_weight': None}. Best is trial 12 with value: 0.18026993852054482.\n"
     ]
    }
   ],
   "source": [
    "study_gbm = hyperparameter_tuning(X_train, Y_train, X_valid, Y_valid, model=\"gbm\")"
   ]
  },
  {
   "cell_type": "markdown",
   "metadata": {},
   "source": [
    "### Prediction of Single Models"
   ]
  },
  {
   "cell_type": "code",
   "execution_count": 35,
   "metadata": {
    "execution": {
     "iopub.execute_input": "2025-04-22T01:32:59.636303Z",
     "iopub.status.busy": "2025-04-22T01:32:59.635859Z",
     "iopub.status.idle": "2025-04-22T01:34:24.545091Z",
     "shell.execute_reply": "2025-04-22T01:34:24.544152Z",
     "shell.execute_reply.started": "2025-04-22T01:32:59.636259Z"
    },
    "trusted": true
   },
   "outputs": [],
   "source": [
    "seed = 123\n",
    "\n",
    "# XGBoost\n",
    "best_params_xgb = study_xgb.best_params\n",
    "clf_xgb = xgb.XGBClassifier(**best_params_xgb, random_state=seed)\n",
    "clf_xgb.fit(X_train, Y_train)\n",
    "probs_xgb = clf_xgb.predict_proba(X_test)[:, 1]\n",
    "\n",
    "# CatBoost\n",
    "best_params_cat = study_cat.best_params\n",
    "clf_cat = cb.CatBoostClassifier(**best_params_cat, verbose=0, random_state=seed)\n",
    "clf_cat.fit(X_train, Y_train)\n",
    "probs_cat = clf_cat.predict_proba(X_test)[:, 1]\n",
    "\n",
    "# LightGBM\n",
    "best_params_gbm = study_gbm.best_params\n",
    "clf_gbm = lgb.LGBMClassifier(**best_params_gbm, verbose=-1, random_state=seed)\n",
    "clf_gbm.fit(X_train, Y_train)\n",
    "probs_gbm = clf_gbm.predict_proba(X_test)[:, 1]"
   ]
  },
  {
   "cell_type": "code",
   "execution_count": 36,
   "metadata": {
    "execution": {
     "iopub.execute_input": "2025-04-22T01:34:24.547001Z",
     "iopub.status.busy": "2025-04-22T01:34:24.546635Z",
     "iopub.status.idle": "2025-04-22T01:34:26.629714Z",
     "shell.execute_reply": "2025-04-22T01:34:26.628725Z",
     "shell.execute_reply.started": "2025-04-22T01:34:24.546963Z"
    },
    "trusted": true
   },
   "outputs": [],
   "source": [
    "# results\n",
    "test_preds_trees = {\n",
    "    \"isic_id\": res_[\"test\"][\"isic_id\"],\n",
    "    \"xgboost\": probs_xgb,\n",
    "    \"catboost\": probs_cat,\n",
    "    \"lightgbm\": probs_gbm\n",
    "}\n",
    "test_preds_trees = pd.DataFrame(test_preds_trees)\n",
    "\n",
    "val_preds_trees = {\n",
    "    \"isic_id\": res_[\"valid\"][\"isic_id\"],\n",
    "    \"xgboost\": clf_xgb.predict_proba(X_valid)[:, 1],\n",
    "    \"catboost\": clf_cat.predict_proba(X_valid)[:, 1],\n",
    "    \"lightgbm\": clf_gbm.predict_proba(X_valid)[:, 1]\n",
    "}\n",
    "val_preds_trees = pd.DataFrame(val_preds_trees)"
   ]
  },
  {
   "cell_type": "code",
   "execution_count": 5,
   "metadata": {
    "execution": {
     "iopub.execute_input": "2025-04-28T01:38:10.186651Z",
     "iopub.status.busy": "2025-04-28T01:38:10.186279Z",
     "iopub.status.idle": "2025-04-28T01:38:10.513840Z",
     "shell.execute_reply": "2025-04-28T01:38:10.512635Z",
     "shell.execute_reply.started": "2025-04-28T01:38:10.186608Z"
    },
    "trusted": true
   },
   "outputs": [],
   "source": [
    "# exports\n",
    "val_preds_trees = pd.read_csv(\"/kaggle/input/preds-trees-poster/val_preds_trees.csv\")\n",
    "test_preds_trees = pd.read_csv(\"/kaggle/input/preds-trees-poster/test_preds_trees.csv\")"
   ]
  },
  {
   "cell_type": "code",
   "execution_count": 28,
   "metadata": {
    "execution": {
     "iopub.execute_input": "2025-04-28T01:48:35.884273Z",
     "iopub.status.busy": "2025-04-28T01:48:35.883870Z",
     "iopub.status.idle": "2025-04-28T01:48:36.142200Z",
     "shell.execute_reply": "2025-04-28T01:48:36.141070Z",
     "shell.execute_reply.started": "2025-04-28T01:48:35.884223Z"
    },
    "trusted": true
   },
   "outputs": [
    {
     "data": {
      "text/html": [
       "<div>\n",
       "<style scoped>\n",
       "    .dataframe tbody tr th:only-of-type {\n",
       "        vertical-align: middle;\n",
       "    }\n",
       "\n",
       "    .dataframe tbody tr th {\n",
       "        vertical-align: top;\n",
       "    }\n",
       "\n",
       "    .dataframe thead th {\n",
       "        text-align: right;\n",
       "    }\n",
       "</style>\n",
       "<table border=\"1\" class=\"dataframe\">\n",
       "  <thead>\n",
       "    <tr style=\"text-align: right;\">\n",
       "      <th></th>\n",
       "      <th>isic_id</th>\n",
       "      <th>densenet</th>\n",
       "      <th>efficientnet</th>\n",
       "      <th>resnet</th>\n",
       "      <th>GroundTruth</th>\n",
       "      <th>xgboost</th>\n",
       "      <th>catboost</th>\n",
       "      <th>lightgbm</th>\n",
       "    </tr>\n",
       "  </thead>\n",
       "  <tbody>\n",
       "    <tr>\n",
       "      <th>0</th>\n",
       "      <td>ISIC_0015845</td>\n",
       "      <td>0.100781</td>\n",
       "      <td>0.382003</td>\n",
       "      <td>0.009750</td>\n",
       "      <td>0.0</td>\n",
       "      <td>7.618000e-02</td>\n",
       "      <td>0.201912</td>\n",
       "      <td>0.045785</td>\n",
       "    </tr>\n",
       "    <tr>\n",
       "      <th>1</th>\n",
       "      <td>ISIC_0024200</td>\n",
       "      <td>0.000803</td>\n",
       "      <td>0.182278</td>\n",
       "      <td>0.000461</td>\n",
       "      <td>0.0</td>\n",
       "      <td>9.023658e-05</td>\n",
       "      <td>0.001399</td>\n",
       "      <td>0.001022</td>\n",
       "    </tr>\n",
       "    <tr>\n",
       "      <th>2</th>\n",
       "      <td>ISIC_0035502</td>\n",
       "      <td>0.210058</td>\n",
       "      <td>0.377963</td>\n",
       "      <td>0.044277</td>\n",
       "      <td>0.0</td>\n",
       "      <td>6.115978e-05</td>\n",
       "      <td>0.001102</td>\n",
       "      <td>0.001434</td>\n",
       "    </tr>\n",
       "    <tr>\n",
       "      <th>3</th>\n",
       "      <td>ISIC_0051665</td>\n",
       "      <td>0.022299</td>\n",
       "      <td>0.051352</td>\n",
       "      <td>0.013658</td>\n",
       "      <td>0.0</td>\n",
       "      <td>2.073411e-06</td>\n",
       "      <td>0.000177</td>\n",
       "      <td>0.000481</td>\n",
       "    </tr>\n",
       "    <tr>\n",
       "      <th>4</th>\n",
       "      <td>ISIC_0051896</td>\n",
       "      <td>0.001666</td>\n",
       "      <td>0.102308</td>\n",
       "      <td>0.000458</td>\n",
       "      <td>0.0</td>\n",
       "      <td>4.743489e-07</td>\n",
       "      <td>0.000112</td>\n",
       "      <td>0.000445</td>\n",
       "    </tr>\n",
       "  </tbody>\n",
       "</table>\n",
       "</div>"
      ],
      "text/plain": [
       "        isic_id  densenet  efficientnet    resnet  GroundTruth       xgboost  \\\n",
       "0  ISIC_0015845  0.100781      0.382003  0.009750          0.0  7.618000e-02   \n",
       "1  ISIC_0024200  0.000803      0.182278  0.000461          0.0  9.023658e-05   \n",
       "2  ISIC_0035502  0.210058      0.377963  0.044277          0.0  6.115978e-05   \n",
       "3  ISIC_0051665  0.022299      0.051352  0.013658          0.0  2.073411e-06   \n",
       "4  ISIC_0051896  0.001666      0.102308  0.000458          0.0  4.743489e-07   \n",
       "\n",
       "   catboost  lightgbm  \n",
       "0  0.201912  0.045785  \n",
       "1  0.001399  0.001022  \n",
       "2  0.001102  0.001434  \n",
       "3  0.000177  0.000481  \n",
       "4  0.000112  0.000445  "
      ]
     },
     "execution_count": 28,
     "metadata": {},
     "output_type": "execute_result"
    }
   ],
   "source": [
    "# rearrange data for CNN-based methods\n",
    "#all_preds = pd.concat([train_preds, val_preds, test_preds], axis=0)\n",
    "all_preds = pd.concat([val_preds, test_preds], axis=0)\n",
    "\n",
    "val_preds_red = all_preds[all_preds[\"isic_id\"].isin(val_preds_trees[\"isic_id\"].values)]\n",
    "test_preds_red = all_preds[all_preds[\"isic_id\"].isin(test_preds_trees[\"isic_id\"].values)]\n",
    "\n",
    "all_val_preds = val_preds_red.merge(val_preds_trees, on=\"isic_id\", how=\"outer\").dropna()\n",
    "all_test_preds = test_preds_red.merge(test_preds_trees, on=\"isic_id\", how=\"outer\").dropna()\n",
    "\n",
    "all_test_preds.head()"
   ]
  },
  {
   "cell_type": "markdown",
   "metadata": {},
   "source": [
    "### Ensemble Model"
   ]
  },
  {
   "cell_type": "code",
   "execution_count": 21,
   "metadata": {
    "execution": {
     "iopub.execute_input": "2025-04-28T01:46:38.046652Z",
     "iopub.status.busy": "2025-04-28T01:46:38.046275Z",
     "iopub.status.idle": "2025-04-28T01:46:38.053867Z",
     "shell.execute_reply": "2025-04-28T01:46:38.052169Z",
     "shell.execute_reply.started": "2025-04-28T01:46:38.046618Z"
    },
    "trusted": true
   },
   "outputs": [],
   "source": [
    "def compute_pAUC(Y_probs, Y_test, min_tpr=0.8, print_out=True):\n",
    "    \n",
    "    # partial AUC\n",
    "    v_gt = abs(np.asarray(Y_test) - 1)\n",
    "    v_pred = np.array([1.0 - x for x in Y_probs])\n",
    "    max_fpr = abs(1 - min_tpr)\n",
    "    partial_auc_scaled = roc_auc_score(v_gt, v_pred, max_fpr=0.8)\n",
    "    partial_auc = 0.5 * max_fpr**2 + (max_fpr - 0.5 * max_fpr**2) / (1.0 - 0.5) * (partial_auc_scaled - 0.5)\n",
    "\n",
    "    if print_out:\n",
    "        print(f\"pAUC at {min_tpr}: {partial_auc:.4f}\")\n",
    "\n",
    "    return partial_auc"
   ]
  },
  {
   "cell_type": "code",
   "execution_count": 29,
   "metadata": {
    "execution": {
     "iopub.execute_input": "2025-04-28T01:48:46.940582Z",
     "iopub.status.busy": "2025-04-28T01:48:46.940174Z",
     "iopub.status.idle": "2025-04-28T01:48:46.980795Z",
     "shell.execute_reply": "2025-04-28T01:48:46.979712Z",
     "shell.execute_reply.started": "2025-04-28T01:48:46.940550Z"
    },
    "trusted": true
   },
   "outputs": [
    {
     "name": "stdout",
     "output_type": "stream",
     "text": [
      "pAUC at 0.8: 0.1559\n"
     ]
    },
    {
     "data": {
      "text/plain": [
       "0.15593763597429705"
      ]
     },
     "execution_count": 29,
     "metadata": {},
     "output_type": "execute_result"
    }
   ],
   "source": [
    "compute_pAUC(all_test_preds[\"densenet\"], all_test_preds[\"GroundTruth\"])"
   ]
  },
  {
   "cell_type": "code",
   "execution_count": 30,
   "metadata": {
    "execution": {
     "iopub.execute_input": "2025-04-28T01:48:52.818636Z",
     "iopub.status.busy": "2025-04-28T01:48:52.818214Z",
     "iopub.status.idle": "2025-04-28T01:48:52.845838Z",
     "shell.execute_reply": "2025-04-28T01:48:52.844836Z",
     "shell.execute_reply.started": "2025-04-28T01:48:52.818602Z"
    },
    "trusted": true
   },
   "outputs": [
    {
     "name": "stdout",
     "output_type": "stream",
     "text": [
      "pAUC at 0.8: 0.1727\n"
     ]
    },
    {
     "data": {
      "text/plain": [
       "0.17271088302428242"
      ]
     },
     "execution_count": 30,
     "metadata": {},
     "output_type": "execute_result"
    }
   ],
   "source": [
    "compute_pAUC(all_val_preds[\"densenet\"], all_val_preds[\"GroundTruth\"])"
   ]
  },
  {
   "cell_type": "code",
   "execution_count": 31,
   "metadata": {
    "execution": {
     "iopub.execute_input": "2025-04-28T01:49:12.750529Z",
     "iopub.status.busy": "2025-04-28T01:49:12.750129Z",
     "iopub.status.idle": "2025-04-28T01:49:12.755746Z",
     "shell.execute_reply": "2025-04-28T01:49:12.754491Z",
     "shell.execute_reply.started": "2025-04-28T01:49:12.750494Z"
    },
    "trusted": true
   },
   "outputs": [],
   "source": [
    "def average_ensemble(preds, models=list()):\n",
    "    \"\"\"\n",
    "    Hyperparameter tuning is not required.\n",
    "    \"\"\"\n",
    "    avg_preds = np.mean(preds[models], axis=1)\n",
    "    return avg_preds"
   ]
  },
  {
   "cell_type": "code",
   "execution_count": 32,
   "metadata": {
    "execution": {
     "iopub.execute_input": "2025-04-28T01:49:15.500708Z",
     "iopub.status.busy": "2025-04-28T01:49:15.500218Z",
     "iopub.status.idle": "2025-04-28T01:49:15.553474Z",
     "shell.execute_reply": "2025-04-28T01:49:15.552097Z",
     "shell.execute_reply.started": "2025-04-28T01:49:15.500676Z"
    },
    "trusted": true
   },
   "outputs": [
    {
     "name": "stdout",
     "output_type": "stream",
     "text": [
      "pAUC at 0.8: 0.1637\n"
     ]
    },
    {
     "data": {
      "text/plain": [
       "0.16368152497364027"
      ]
     },
     "execution_count": 32,
     "metadata": {},
     "output_type": "execute_result"
    }
   ],
   "source": [
    "# AVG (densenet, efficientnet, resnet)\n",
    "compute_pAUC(average_ensemble(all_test_preds, models=[\"densenet\", \"efficientnet\", \"resnet\"]),\n",
    "             all_test_preds[\"GroundTruth\"])"
   ]
  },
  {
   "cell_type": "code",
   "execution_count": 33,
   "metadata": {
    "execution": {
     "iopub.execute_input": "2025-04-28T01:49:38.962301Z",
     "iopub.status.busy": "2025-04-28T01:49:38.961899Z",
     "iopub.status.idle": "2025-04-28T01:49:39.008537Z",
     "shell.execute_reply": "2025-04-28T01:49:39.007531Z",
     "shell.execute_reply.started": "2025-04-28T01:49:38.962264Z"
    },
    "trusted": true
   },
   "outputs": [
    {
     "name": "stdout",
     "output_type": "stream",
     "text": [
      "pAUC at 0.8: 0.1710\n"
     ]
    },
    {
     "data": {
      "text/plain": [
       "0.17099752272145777"
      ]
     },
     "execution_count": 33,
     "metadata": {},
     "output_type": "execute_result"
    }
   ],
   "source": [
    "# AVG (xgboost, catboost, lightgbm)\n",
    "compute_pAUC(average_ensemble(all_test_preds, models=[\"xgboost\", \"lightgbm\", \"lightgbm\"]),\n",
    "             all_test_preds[\"GroundTruth\"])"
   ]
  },
  {
   "cell_type": "code",
   "execution_count": 34,
   "metadata": {
    "execution": {
     "iopub.execute_input": "2025-04-28T01:49:50.766675Z",
     "iopub.status.busy": "2025-04-28T01:49:50.766166Z",
     "iopub.status.idle": "2025-04-28T01:49:50.826098Z",
     "shell.execute_reply": "2025-04-28T01:49:50.825007Z",
     "shell.execute_reply.started": "2025-04-28T01:49:50.766631Z"
    },
    "trusted": true
   },
   "outputs": [
    {
     "name": "stdout",
     "output_type": "stream",
     "text": [
      "pAUC at 0.8: 0.1561\n"
     ]
    },
    {
     "data": {
      "text/plain": [
       "0.15610995665933866"
      ]
     },
     "execution_count": 34,
     "metadata": {},
     "output_type": "execute_result"
    }
   ],
   "source": [
    "# AVG (xgboost, efficientnet)\n",
    "compute_pAUC(average_ensemble(all_test_preds, models=[\"xgboost\", \"densenet\"]),\n",
    "             all_test_preds[\"GroundTruth\"])"
   ]
  },
  {
   "cell_type": "code",
   "execution_count": 53,
   "metadata": {
    "execution": {
     "iopub.execute_input": "2025-04-28T01:59:29.951332Z",
     "iopub.status.busy": "2025-04-28T01:59:29.950860Z",
     "iopub.status.idle": "2025-04-28T01:59:29.962004Z",
     "shell.execute_reply": "2025-04-28T01:59:29.960415Z",
     "shell.execute_reply.started": "2025-04-28T01:59:29.951292Z"
    },
    "trusted": true
   },
   "outputs": [],
   "source": [
    "def weighted_avg_ensemble(val_preds, test_preds, models=list(), seed=123):\n",
    "    \"\"\"\n",
    "    Tune the weights.\n",
    "    \"\"\"\n",
    "    # hyperparameter tuning\n",
    "    assert len(models) >= 1\n",
    "    weights = [0 for _ in range(len(models))]\n",
    "    np.random.shuffle(models)\n",
    "    \n",
    "    def objective(trial):\n",
    "        # choose weights\n",
    "        params = dict()\n",
    "        weighted_score = np.zeros(val_preds.shape[0])\n",
    "        upper_bound = 1\n",
    "        for i in range(len(weights)):\n",
    "            if i < len(weights) - 1:\n",
    "                if np.round(upper_bound) == 0:\n",
    "                    weight_i = 0\n",
    "                else:\n",
    "                    weight_i = np.round(trial.suggest_float(f\"weight_{models[i]}\", 0, upper_bound), 3)\n",
    "                upper_bound -= weight_i\n",
    "            else: # i == len(weights) - 1\n",
    "                weights_i = upper_bound\n",
    "            \n",
    "            params[f\"weight_{models[i]}\"] = weight_i\n",
    "            weighted_score += weight_i * val_preds[models[i]].values\n",
    "\n",
    "        # pAUC\n",
    "        pAUC = compute_pAUC(weighted_score, all_val_preds[\"GroundTruth\"], print_out=False)\n",
    "        \n",
    "        return pAUC\n",
    "\n",
    "    # Optuna optimization\n",
    "    study = optuna.create_study(direction='maximize') # maximize pAUC\n",
    "    study.optimize(objective, n_trials=50, timeout=600)\n",
    "\n",
    "    # weighted average\n",
    "    best_weights = study.best_params\n",
    "    best_weights[f\"weight_{models[-1]}\"] = 1 - np.sum(list(best_weights.values()))\n",
    "    weighted_score = np.zeros(test_preds.shape[0])\n",
    "    for weight_model in best_weights.keys():\n",
    "        weight_i = best_weights[weight_model]\n",
    "        model_i = weight_model.split(\"_\")[1]\n",
    "        weighted_score += weight_i * test_preds[model_i].values\n",
    "    \n",
    "    return weighted_score"
   ]
  },
  {
   "cell_type": "code",
   "execution_count": 74,
   "metadata": {
    "collapsed": true,
    "execution": {
     "iopub.execute_input": "2025-04-28T02:05:56.863261Z",
     "iopub.status.busy": "2025-04-28T02:05:56.862914Z",
     "iopub.status.idle": "2025-04-28T02:05:58.238580Z",
     "shell.execute_reply": "2025-04-28T02:05:58.237185Z",
     "shell.execute_reply.started": "2025-04-28T02:05:56.863216Z"
    },
    "jupyter": {
     "outputs_hidden": true
    },
    "trusted": true
   },
   "outputs": [
    {
     "name": "stderr",
     "output_type": "stream",
     "text": [
      "[I 2025-04-28 02:05:56,864] A new study created in memory with name: no-name-d184f324-c211-4108-bb9e-a61944362e29\n",
      "[I 2025-04-28 02:05:56,890] Trial 0 finished with value: 0.1713169814704832 and parameters: {'weight_densenet': 0.47241048629304394, 'weight_resnet': 0.1719704350806666}. Best is trial 0 with value: 0.1713169814704832.\n",
      "[I 2025-04-28 02:05:56,913] Trial 1 finished with value: 0.16918382817007696 and parameters: {'weight_densenet': 0.20713652748078804, 'weight_resnet': 0.5940605442651337}. Best is trial 0 with value: 0.1713169814704832.\n",
      "[I 2025-04-28 02:05:56,935] Trial 2 finished with value: 0.17052608023986332 and parameters: {'weight_densenet': 0.45680312445381943, 'weight_resnet': 0.4578857108385063}. Best is trial 0 with value: 0.1713169814704832.\n",
      "[I 2025-04-28 02:05:56,956] Trial 3 finished with value: 0.16878729888003946 and parameters: {'weight_densenet': 0.12457445723786842, 'weight_resnet': 0.5057058844477487}. Best is trial 0 with value: 0.1713169814704832.\n",
      "[I 2025-04-28 02:05:56,977] Trial 4 finished with value: 0.17271088302428242 and parameters: {'weight_densenet': 0.6079691872168554}. Best is trial 4 with value: 0.17271088302428242.\n",
      "[I 2025-04-28 02:05:56,999] Trial 5 finished with value: 0.16941931766843818 and parameters: {'weight_densenet': 0.21459753370585966, 'weight_resnet': 0.5114614886215215}. Best is trial 4 with value: 0.17271088302428242.\n",
      "[I 2025-04-28 02:05:57,020] Trial 6 finished with value: 0.16744077441231264 and parameters: {'weight_densenet': 0.0008783855634147963, 'weight_resnet': 0.11388141369154312}. Best is trial 4 with value: 0.17271088302428242.\n",
      "[I 2025-04-28 02:05:57,041] Trial 7 finished with value: 0.17271088302428242 and parameters: {'weight_densenet': 0.5436429005196964}. Best is trial 4 with value: 0.17271088302428242.\n",
      "[I 2025-04-28 02:05:57,063] Trial 8 finished with value: 0.17045095371766297 and parameters: {'weight_densenet': 0.05828618007895203, 'weight_resnet': 0.06222098839065199}. Best is trial 4 with value: 0.17271088302428242.\n",
      "[I 2025-04-28 02:05:57,085] Trial 9 finished with value: 0.17271088302428242 and parameters: {'weight_densenet': 0.5829340557422109}. Best is trial 4 with value: 0.17271088302428242.\n",
      "[I 2025-04-28 02:05:57,112] Trial 10 finished with value: 0.17271088302428242 and parameters: {'weight_densenet': 0.9517439940616262}. Best is trial 4 with value: 0.17271088302428242.\n",
      "[I 2025-04-28 02:05:57,139] Trial 11 finished with value: 0.17271088302428242 and parameters: {'weight_densenet': 0.7018060762632099}. Best is trial 4 with value: 0.17271088302428242.\n",
      "[I 2025-04-28 02:05:57,166] Trial 12 finished with value: 0.17271088302428242 and parameters: {'weight_densenet': 0.7814788312011418}. Best is trial 4 with value: 0.17271088302428242.\n",
      "[I 2025-04-28 02:05:57,198] Trial 13 finished with value: 0.1707215530208814 and parameters: {'weight_densenet': 0.35314923147820687, 'weight_resnet': 0.2987887029441721}. Best is trial 4 with value: 0.17271088302428242.\n",
      "[I 2025-04-28 02:05:57,225] Trial 14 finished with value: 0.17271088302428242 and parameters: {'weight_densenet': 0.6431724592081358}. Best is trial 4 with value: 0.17271088302428242.\n",
      "[I 2025-04-28 02:05:57,250] Trial 15 finished with value: 0.17271088302428242 and parameters: {'weight_densenet': 0.8509248612689516}. Best is trial 4 with value: 0.17271088302428242.\n",
      "[I 2025-04-28 02:05:57,281] Trial 16 finished with value: 0.1707699876311964 and parameters: {'weight_densenet': 0.36465188690329686, 'weight_resnet': 0.29646000553124585}. Best is trial 4 with value: 0.17271088302428242.\n",
      "[I 2025-04-28 02:05:57,308] Trial 17 finished with value: 0.17271088302428242 and parameters: {'weight_densenet': 0.5731178650594255}. Best is trial 4 with value: 0.17271088302428242.\n",
      "[I 2025-04-28 02:05:57,335] Trial 18 finished with value: 0.17271088302428242 and parameters: {'weight_densenet': 0.7414126640936709}. Best is trial 4 with value: 0.17271088302428242.\n",
      "[I 2025-04-28 02:05:57,365] Trial 19 finished with value: 0.17094612886905816 and parameters: {'weight_densenet': 0.34173255160376015, 'weight_resnet': 0.21908360726069204}. Best is trial 4 with value: 0.17271088302428242.\n",
      "[I 2025-04-28 02:05:57,391] Trial 20 finished with value: 0.17271088302428242 and parameters: {'weight_densenet': 0.8752538779770509}. Best is trial 4 with value: 0.17271088302428242.\n",
      "[I 2025-04-28 02:05:57,418] Trial 21 finished with value: 0.17271088302428242 and parameters: {'weight_densenet': 0.5596200806312939}. Best is trial 4 with value: 0.17271088302428242.\n",
      "[I 2025-04-28 02:05:57,444] Trial 22 finished with value: 0.17271088302428242 and parameters: {'weight_densenet': 0.6074942571454705}. Best is trial 4 with value: 0.17271088302428242.\n",
      "[I 2025-04-28 02:05:57,475] Trial 23 finished with value: 0.17271088302428242 and parameters: {'weight_densenet': 0.4600402894556298, 'weight_resnet': 0.00017407663613572266}. Best is trial 4 with value: 0.17271088302428242.\n",
      "[I 2025-04-28 02:05:57,501] Trial 24 finished with value: 0.17271088302428242 and parameters: {'weight_densenet': 0.6751872051035043}. Best is trial 4 with value: 0.17271088302428242.\n",
      "[I 2025-04-28 02:05:57,528] Trial 25 finished with value: 0.17271088302428242 and parameters: {'weight_densenet': 0.5308880293892508}. Best is trial 4 with value: 0.17271088302428242.\n",
      "[I 2025-04-28 02:05:57,553] Trial 26 finished with value: 0.17271088302428242 and parameters: {'weight_densenet': 0.7938904960987927}. Best is trial 4 with value: 0.17271088302428242.\n",
      "[I 2025-04-28 02:05:57,585] Trial 27 finished with value: 0.1705023916968272 and parameters: {'weight_densenet': 0.38633999105481653, 'weight_resnet': 0.3942831602739796}. Best is trial 4 with value: 0.17271088302428242.\n",
      "[I 2025-04-28 02:05:57,611] Trial 28 finished with value: 0.17271088302428242 and parameters: {'weight_densenet': 0.6276639375105899}. Best is trial 4 with value: 0.17271088302428242.\n",
      "[I 2025-04-28 02:05:57,641] Trial 29 finished with value: 0.1708355964352126 and parameters: {'weight_densenet': 0.48622531030342864, 'weight_resnet': 0.3640152047996619}. Best is trial 4 with value: 0.17271088302428242.\n",
      "[I 2025-04-28 02:05:57,673] Trial 30 finished with value: 0.1692786246431913 and parameters: {'weight_densenet': 0.25321178620135815, 'weight_resnet': 0.6723546459860357}. Best is trial 4 with value: 0.17271088302428242.\n",
      "[I 2025-04-28 02:05:57,701] Trial 31 finished with value: 0.17271088302428242 and parameters: {'weight_densenet': 0.9504961898107862}. Best is trial 4 with value: 0.17271088302428242.\n",
      "[I 2025-04-28 02:05:57,728] Trial 32 finished with value: 0.17271088302428242 and parameters: {'weight_densenet': 0.9827141409487192}. Best is trial 4 with value: 0.17271088302428242.\n",
      "[I 2025-04-28 02:05:57,754] Trial 33 finished with value: 0.17271088302428242 and parameters: {'weight_densenet': 0.8792366645506196}. Best is trial 4 with value: 0.17271088302428242.\n",
      "[I 2025-04-28 02:05:57,781] Trial 34 finished with value: 0.17271088302428242 and parameters: {'weight_densenet': 0.5195948185153089}. Best is trial 4 with value: 0.17271088302428242.\n",
      "[I 2025-04-28 02:05:57,814] Trial 35 finished with value: 0.17113373366971055 and parameters: {'weight_densenet': 0.44868065216320857, 'weight_resnet': 0.2189859254751058}. Best is trial 4 with value: 0.17271088302428242.\n",
      "[I 2025-04-28 02:05:57,845] Trial 36 finished with value: 0.16940776950370814 and parameters: {'weight_densenet': 0.2820017124853022, 'weight_resnet': 0.6783162115647785}. Best is trial 4 with value: 0.17271088302428242.\n",
      "[I 2025-04-28 02:05:57,875] Trial 37 finished with value: 0.1707088627299692 and parameters: {'weight_densenet': 0.4240426035587962, 'weight_resnet': 0.36387233854533413}. Best is trial 4 with value: 0.17271088302428242.\n",
      "[I 2025-04-28 02:05:57,904] Trial 38 finished with value: 0.17271088302428242 and parameters: {'weight_densenet': 0.7125680143681383}. Best is trial 4 with value: 0.17271088302428242.\n",
      "[I 2025-04-28 02:05:57,930] Trial 39 finished with value: 0.17271088302428242 and parameters: {'weight_densenet': 0.7784879788579724}. Best is trial 4 with value: 0.17271088302428242.\n",
      "[I 2025-04-28 02:05:57,956] Trial 40 finished with value: 0.17271088302428242 and parameters: {'weight_densenet': 0.660415251069211}. Best is trial 4 with value: 0.17271088302428242.\n",
      "[I 2025-04-28 02:05:57,983] Trial 41 finished with value: 0.17271088302428242 and parameters: {'weight_densenet': 0.5831563684826611}. Best is trial 4 with value: 0.17271088302428242.\n",
      "[I 2025-04-28 02:05:58,009] Trial 42 finished with value: 0.17271088302428242 and parameters: {'weight_densenet': 0.6808455004605145}. Best is trial 4 with value: 0.17271088302428242.\n",
      "[I 2025-04-28 02:05:58,036] Trial 43 finished with value: 0.17271088302428242 and parameters: {'weight_densenet': 0.8164691690474392}. Best is trial 4 with value: 0.17271088302428242.\n",
      "[I 2025-04-28 02:05:58,064] Trial 44 finished with value: 0.17271088302428242 and parameters: {'weight_densenet': 0.7459554283779972}. Best is trial 4 with value: 0.17271088302428242.\n",
      "[I 2025-04-28 02:05:58,091] Trial 45 finished with value: 0.17271088302428242 and parameters: {'weight_densenet': 0.9131894393617854}. Best is trial 4 with value: 0.17271088302428242.\n",
      "[I 2025-04-28 02:05:58,118] Trial 46 finished with value: 0.17271088302428242 and parameters: {'weight_densenet': 0.5330514249846703}. Best is trial 4 with value: 0.17271088302428242.\n",
      "[I 2025-04-28 02:05:58,146] Trial 47 finished with value: 0.17271088302428242 and parameters: {'weight_densenet': 0.724117903531685}. Best is trial 4 with value: 0.17271088302428242.\n",
      "[I 2025-04-28 02:05:58,173] Trial 48 finished with value: 0.17271088302428242 and parameters: {'weight_densenet': 0.6168484550813702}. Best is trial 4 with value: 0.17271088302428242.\n",
      "[I 2025-04-28 02:05:58,200] Trial 49 finished with value: 0.17271088302428242 and parameters: {'weight_densenet': 0.9991827676045033}. Best is trial 4 with value: 0.17271088302428242.\n"
     ]
    },
    {
     "name": "stdout",
     "output_type": "stream",
     "text": [
      "pAUC at 0.8: 0.1616\n"
     ]
    },
    {
     "data": {
      "text/plain": [
       "0.16155927175629492"
      ]
     },
     "execution_count": 74,
     "metadata": {},
     "output_type": "execute_result"
    }
   ],
   "source": [
    "# WTD_AVG (densenet, efficientnet, resnet)\n",
    "compute_pAUC(weighted_avg_ensemble(all_val_preds, all_test_preds, \n",
    "                                   models=[\"resnet\", \"efficientnet\", \"densenet\"]),\n",
    "             all_test_preds[\"GroundTruth\"])"
   ]
  },
  {
   "cell_type": "code",
   "execution_count": 19,
   "metadata": {
    "collapsed": true,
    "execution": {
     "iopub.execute_input": "2025-04-27T23:37:56.466052Z",
     "iopub.status.busy": "2025-04-27T23:37:56.465665Z",
     "iopub.status.idle": "2025-04-27T23:37:57.828861Z",
     "shell.execute_reply": "2025-04-27T23:37:57.827527Z",
     "shell.execute_reply.started": "2025-04-27T23:37:56.466010Z"
    },
    "jupyter": {
     "outputs_hidden": true
    },
    "trusted": true
   },
   "outputs": [
    {
     "name": "stderr",
     "output_type": "stream",
     "text": [
      "[I 2025-04-27 23:37:56,467] A new study created in memory with name: no-name-a2b53d23-75cf-4147-9769-761797cf71df\n",
      "[I 2025-04-27 23:37:56,490] Trial 0 finished with value: 0.1838838804540755 and parameters: {'weight_xgboost': 0.8986290703446821}. Best is trial 0 with value: 0.1838838804540755.\n",
      "[I 2025-04-27 23:37:56,512] Trial 1 finished with value: 0.1838838804540755 and parameters: {'weight_xgboost': 0.9089224317423841}. Best is trial 0 with value: 0.1838838804540755.\n",
      "[I 2025-04-27 23:37:56,533] Trial 2 finished with value: 0.1838838804540755 and parameters: {'weight_xgboost': 0.7745232659549046}. Best is trial 0 with value: 0.1838838804540755.\n",
      "[I 2025-04-27 23:37:56,553] Trial 3 finished with value: 0.1838838804540755 and parameters: {'weight_xgboost': 0.9814502201018589}. Best is trial 0 with value: 0.1838838804540755.\n",
      "[I 2025-04-27 23:37:56,574] Trial 4 finished with value: 0.1838838804540755 and parameters: {'weight_xgboost': 0.6137505958898807}. Best is trial 0 with value: 0.1838838804540755.\n",
      "[I 2025-04-27 23:37:56,595] Trial 5 finished with value: 0.1838838804540755 and parameters: {'weight_xgboost': 0.8003080801781809}. Best is trial 0 with value: 0.1838838804540755.\n",
      "[I 2025-04-27 23:37:56,615] Trial 6 finished with value: 0.18208680835799473 and parameters: {'weight_xgboost': 0.44991844469443687, 'weight_catboost': 0.13853019332546895}. Best is trial 0 with value: 0.1838838804540755.\n",
      "[I 2025-04-27 23:37:56,635] Trial 7 finished with value: 0.1838838804540755 and parameters: {'weight_xgboost': 0.5918975403654763}. Best is trial 0 with value: 0.1838838804540755.\n",
      "[I 2025-04-27 23:37:56,656] Trial 8 finished with value: 0.18198790869081877 and parameters: {'weight_xgboost': 0.45832979768113613, 'weight_catboost': 0.2478832525768529}. Best is trial 0 with value: 0.1838838804540755.\n",
      "[I 2025-04-27 23:37:56,681] Trial 9 finished with value: 0.18188837450909717 and parameters: {'weight_xgboost': 0.2124453689042256, 'weight_catboost': 0.36464430221656924}. Best is trial 0 with value: 0.1838838804540755.\n",
      "[I 2025-04-27 23:37:56,722] Trial 10 finished with value: 0.1818480193839963 and parameters: {'weight_xgboost': 0.09048005003020976, 'weight_catboost': 0.8997647865468832}. Best is trial 0 with value: 0.1838838804540755.\n",
      "[I 2025-04-27 23:37:56,758] Trial 11 finished with value: 0.1838838804540755 and parameters: {'weight_xgboost': 0.994606455971002}. Best is trial 0 with value: 0.1838838804540755.\n",
      "[I 2025-04-27 23:37:56,785] Trial 12 finished with value: 0.1838838804540755 and parameters: {'weight_xgboost': 0.8111115842638698}. Best is trial 0 with value: 0.1838838804540755.\n",
      "[I 2025-04-27 23:37:56,810] Trial 13 finished with value: 0.1838838804540755 and parameters: {'weight_xgboost': 0.8426243448767976}. Best is trial 0 with value: 0.1838838804540755.\n",
      "[I 2025-04-27 23:37:56,834] Trial 14 finished with value: 0.1838838804540755 and parameters: {'weight_xgboost': 0.6725346086490982}. Best is trial 0 with value: 0.1838838804540755.\n",
      "[I 2025-04-27 23:37:56,865] Trial 15 finished with value: 0.1818903203537037 and parameters: {'weight_xgboost': 0.3327703987837689, 'weight_catboost': 0.5239035953468115}. Best is trial 0 with value: 0.1838838804540755.\n",
      "[I 2025-04-27 23:37:56,890] Trial 16 finished with value: 0.1838838804540755 and parameters: {'weight_xgboost': 0.9058476008717369}. Best is trial 0 with value: 0.1838838804540755.\n",
      "[I 2025-04-27 23:37:56,915] Trial 17 finished with value: 0.1838838804540755 and parameters: {'weight_xgboost': 0.7191087586985865}. Best is trial 0 with value: 0.1838838804540755.\n",
      "[I 2025-04-27 23:37:56,941] Trial 18 finished with value: 0.1838838804540755 and parameters: {'weight_xgboost': 0.9099953533311274}. Best is trial 0 with value: 0.1838838804540755.\n",
      "[I 2025-04-27 23:37:56,966] Trial 19 finished with value: 0.1838838804540755 and parameters: {'weight_xgboost': 0.6042390504343762}. Best is trial 0 with value: 0.1838838804540755.\n",
      "[I 2025-04-27 23:37:56,996] Trial 20 finished with value: 0.1818773762569733 and parameters: {'weight_xgboost': 0.001252624736696073, 'weight_catboost': 0.8749703134953708}. Best is trial 0 with value: 0.1838838804540755.\n",
      "[I 2025-04-27 23:37:57,022] Trial 21 finished with value: 0.1838838804540755 and parameters: {'weight_xgboost': 0.7448937320700013}. Best is trial 0 with value: 0.1838838804540755.\n",
      "[I 2025-04-27 23:37:57,048] Trial 22 finished with value: 0.1838838804540755 and parameters: {'weight_xgboost': 0.900550013540497}. Best is trial 0 with value: 0.1838838804540755.\n",
      "[I 2025-04-27 23:37:57,073] Trial 23 finished with value: 0.1838838804540755 and parameters: {'weight_xgboost': 0.7592632497658172}. Best is trial 0 with value: 0.1838838804540755.\n",
      "[I 2025-04-27 23:37:57,099] Trial 24 finished with value: 0.1838838804540755 and parameters: {'weight_xgboost': 0.8737142465100733}. Best is trial 0 with value: 0.1838838804540755.\n",
      "[I 2025-04-27 23:37:57,124] Trial 25 finished with value: 0.1838838804540755 and parameters: {'weight_xgboost': 0.9551230669643556}. Best is trial 0 with value: 0.1838838804540755.\n",
      "[I 2025-04-27 23:37:57,150] Trial 26 finished with value: 0.1838838804540755 and parameters: {'weight_xgboost': 0.6869147421560015}. Best is trial 0 with value: 0.1838838804540755.\n",
      "[I 2025-04-27 23:37:57,177] Trial 27 finished with value: 0.1838838804540755 and parameters: {'weight_xgboost': 0.5243477037127758}. Best is trial 0 with value: 0.1838838804540755.\n",
      "[I 2025-04-27 23:37:57,204] Trial 28 finished with value: 0.1838838804540755 and parameters: {'weight_xgboost': 0.8347991883605262}. Best is trial 0 with value: 0.1838838804540755.\n",
      "[I 2025-04-27 23:37:57,231] Trial 29 finished with value: 0.1838838804540755 and parameters: {'weight_xgboost': 0.9943067763519531}. Best is trial 0 with value: 0.1838838804540755.\n",
      "[I 2025-04-27 23:37:57,263] Trial 30 finished with value: 0.1823937864951616 and parameters: {'weight_xgboost': 0.3514287762475069, 'weight_catboost': 0.03909777146712051}. Best is trial 0 with value: 0.1838838804540755.\n",
      "[I 2025-04-27 23:37:57,289] Trial 31 finished with value: 0.1838838804540755 and parameters: {'weight_xgboost': 0.9566956333777666}. Best is trial 0 with value: 0.1838838804540755.\n",
      "[I 2025-04-27 23:37:57,319] Trial 32 finished with value: 0.1838838804540755 and parameters: {'weight_xgboost': 0.7830511215241663}. Best is trial 0 with value: 0.1838838804540755.\n",
      "[I 2025-04-27 23:37:57,344] Trial 33 finished with value: 0.1838838804540755 and parameters: {'weight_xgboost': 0.9295534370492462}. Best is trial 0 with value: 0.1838838804540755.\n",
      "[I 2025-04-27 23:37:57,371] Trial 34 finished with value: 0.1838838804540755 and parameters: {'weight_xgboost': 0.8683982210982063}. Best is trial 0 with value: 0.1838838804540755.\n",
      "[I 2025-04-27 23:37:57,397] Trial 35 finished with value: 0.1838838804540755 and parameters: {'weight_xgboost': 0.6546189771072525}. Best is trial 0 with value: 0.1838838804540755.\n",
      "[I 2025-04-27 23:37:57,423] Trial 36 finished with value: 0.1838838804540755 and parameters: {'weight_xgboost': 0.5382743034201143}. Best is trial 0 with value: 0.1838838804540755.\n",
      "[I 2025-04-27 23:37:57,448] Trial 37 finished with value: 0.1838838804540755 and parameters: {'weight_xgboost': 0.7875531705499587}. Best is trial 0 with value: 0.1838838804540755.\n",
      "[I 2025-04-27 23:37:57,474] Trial 38 finished with value: 0.1838838804540755 and parameters: {'weight_xgboost': 0.994522148377593}. Best is trial 0 with value: 0.1838838804540755.\n",
      "[I 2025-04-27 23:37:57,501] Trial 39 finished with value: 0.1838838804540755 and parameters: {'weight_xgboost': 0.8366733373675306}. Best is trial 0 with value: 0.1838838804540755.\n",
      "[I 2025-04-27 23:37:57,527] Trial 40 finished with value: 0.1838838804540755 and parameters: {'weight_xgboost': 0.9524528223000748}. Best is trial 0 with value: 0.1838838804540755.\n",
      "[I 2025-04-27 23:37:57,554] Trial 41 finished with value: 0.1838838804540755 and parameters: {'weight_xgboost': 0.5850399494960861}. Best is trial 0 with value: 0.1838838804540755.\n",
      "[I 2025-04-27 23:37:57,586] Trial 42 finished with value: 0.18190567560570753 and parameters: {'weight_xgboost': 0.4258252105248935, 'weight_catboost': 0.500915046225286}. Best is trial 0 with value: 0.1838838804540755.\n",
      "[I 2025-04-27 23:37:57,616] Trial 43 finished with value: 0.1838838804540755 and parameters: {'weight_xgboost': 0.7114506744122571}. Best is trial 0 with value: 0.1838838804540755.\n",
      "[I 2025-04-27 23:37:57,645] Trial 44 finished with value: 0.1838838804540755 and parameters: {'weight_xgboost': 0.6463763858240241}. Best is trial 0 with value: 0.1838838804540755.\n",
      "[I 2025-04-27 23:37:57,673] Trial 45 finished with value: 0.1838838804540755 and parameters: {'weight_xgboost': 0.7977180902558388}. Best is trial 0 with value: 0.1838838804540755.\n",
      "[I 2025-04-27 23:37:57,702] Trial 46 finished with value: 0.1838838804540755 and parameters: {'weight_xgboost': 0.8538229337154243}. Best is trial 0 with value: 0.1838838804540755.\n",
      "[I 2025-04-27 23:37:57,730] Trial 47 finished with value: 0.1838838804540755 and parameters: {'weight_xgboost': 0.8973664669021355}. Best is trial 0 with value: 0.1838838804540755.\n",
      "[I 2025-04-27 23:37:57,758] Trial 48 finished with value: 0.1838838804540755 and parameters: {'weight_xgboost': 0.7464596038960701}. Best is trial 0 with value: 0.1838838804540755.\n",
      "[I 2025-04-27 23:37:57,790] Trial 49 finished with value: 0.18186447446121254 and parameters: {'weight_xgboost': 0.22182920585822696, 'weight_catboost': 0.6450930318634145}. Best is trial 0 with value: 0.1838838804540755.\n"
     ]
    },
    {
     "name": "stdout",
     "output_type": "stream",
     "text": [
      "pAUC at 0.8: 0.1724\n"
     ]
    },
    {
     "data": {
      "text/plain": [
       "0.17243012652637504"
      ]
     },
     "execution_count": 19,
     "metadata": {},
     "output_type": "execute_result"
    }
   ],
   "source": [
    "# WTD_AVG (xgboost, catboost, lightgbm)\n",
    "compute_pAUC(weighted_avg_ensemble(all_val_preds, all_test_preds, \n",
    "                                   models=[\"xgboost\", \"catboost\", \"lightgbm\"]),\n",
    "             all_test_preds[\"GroundTruth\"])"
   ]
  },
  {
   "cell_type": "code",
   "execution_count": 76,
   "metadata": {
    "execution": {
     "iopub.execute_input": "2025-04-28T02:06:51.170507Z",
     "iopub.status.busy": "2025-04-28T02:06:51.170132Z",
     "iopub.status.idle": "2025-04-28T02:06:52.480802Z",
     "shell.execute_reply": "2025-04-28T02:06:52.479646Z",
     "shell.execute_reply.started": "2025-04-28T02:06:51.170477Z"
    },
    "trusted": true
   },
   "outputs": [
    {
     "name": "stderr",
     "output_type": "stream",
     "text": [
      "[I 2025-04-28 02:06:51,171] A new study created in memory with name: no-name-677a986a-f211-441b-97a6-7f767e94532f\n",
      "[I 2025-04-28 02:06:51,195] Trial 0 finished with value: 0.17285796349595509 and parameters: {'weight_densenet': 0.005467958783009319}. Best is trial 0 with value: 0.17285796349595509.\n",
      "[I 2025-04-28 02:06:51,217] Trial 1 finished with value: 0.17285796349595509 and parameters: {'weight_densenet': 0.1664173013943976}. Best is trial 0 with value: 0.17285796349595509.\n",
      "[I 2025-04-28 02:06:51,238] Trial 2 finished with value: 0.17285796349595509 and parameters: {'weight_densenet': 0.6320069772757612}. Best is trial 0 with value: 0.17285796349595509.\n",
      "[I 2025-04-28 02:06:51,259] Trial 3 finished with value: 0.17285796349595509 and parameters: {'weight_densenet': 0.5933767714882316}. Best is trial 0 with value: 0.17285796349595509.\n",
      "[I 2025-04-28 02:06:51,280] Trial 4 finished with value: 0.17285796349595509 and parameters: {'weight_densenet': 0.8795043819092149}. Best is trial 0 with value: 0.17285796349595509.\n",
      "[I 2025-04-28 02:06:51,302] Trial 5 finished with value: 0.17285796349595509 and parameters: {'weight_densenet': 0.06998052151888867}. Best is trial 0 with value: 0.17285796349595509.\n",
      "[I 2025-04-28 02:06:51,323] Trial 6 finished with value: 0.17285796349595509 and parameters: {'weight_densenet': 0.07240452464760905}. Best is trial 0 with value: 0.17285796349595509.\n",
      "[I 2025-04-28 02:06:51,345] Trial 7 finished with value: 0.17285796349595509 and parameters: {'weight_densenet': 0.76335281024647}. Best is trial 0 with value: 0.17285796349595509.\n",
      "[I 2025-04-28 02:06:51,367] Trial 8 finished with value: 0.17285796349595509 and parameters: {'weight_densenet': 0.11093111213510742}. Best is trial 0 with value: 0.17285796349595509.\n",
      "[I 2025-04-28 02:06:51,388] Trial 9 finished with value: 0.17285796349595509 and parameters: {'weight_densenet': 0.07312842202721492}. Best is trial 0 with value: 0.17285796349595509.\n",
      "[I 2025-04-28 02:06:51,415] Trial 10 finished with value: 0.17285796349595509 and parameters: {'weight_densenet': 0.35532752617015423}. Best is trial 0 with value: 0.17285796349595509.\n",
      "[I 2025-04-28 02:06:51,442] Trial 11 finished with value: 0.17285796349595509 and parameters: {'weight_densenet': 0.3289789356656073}. Best is trial 0 with value: 0.17285796349595509.\n",
      "[I 2025-04-28 02:06:51,468] Trial 12 finished with value: 0.17285796349595509 and parameters: {'weight_densenet': 0.28598775137207677}. Best is trial 0 with value: 0.17285796349595509.\n",
      "[I 2025-04-28 02:06:51,498] Trial 13 finished with value: 0.17285796349595509 and parameters: {'weight_densenet': 0.20802535150936946}. Best is trial 0 with value: 0.17285796349595509.\n",
      "[I 2025-04-28 02:06:51,524] Trial 14 finished with value: 0.17285796349595509 and parameters: {'weight_densenet': 0.43402212611617363}. Best is trial 0 with value: 0.17285796349595509.\n",
      "[I 2025-04-28 02:06:51,549] Trial 15 finished with value: 0.17285796349595509 and parameters: {'weight_densenet': 0.2038908844054989}. Best is trial 0 with value: 0.17285796349595509.\n",
      "[I 2025-04-28 02:06:51,575] Trial 16 finished with value: 0.17285796349595509 and parameters: {'weight_densenet': 0.0032894263033989056}. Best is trial 0 with value: 0.17285796349595509.\n",
      "[I 2025-04-28 02:06:51,600] Trial 17 finished with value: 0.17285796349595509 and parameters: {'weight_densenet': 0.4720416989096317}. Best is trial 0 with value: 0.17285796349595509.\n",
      "[I 2025-04-28 02:06:51,625] Trial 18 finished with value: 0.17285796349595509 and parameters: {'weight_densenet': 0.21147408359709097}. Best is trial 0 with value: 0.17285796349595509.\n",
      "[I 2025-04-28 02:06:51,651] Trial 19 finished with value: 0.17285796349595509 and parameters: {'weight_densenet': 0.5865466925566646}. Best is trial 0 with value: 0.17285796349595509.\n",
      "[I 2025-04-28 02:06:51,676] Trial 20 finished with value: 0.17285796349595509 and parameters: {'weight_densenet': 0.17697658871217667}. Best is trial 0 with value: 0.17285796349595509.\n",
      "[I 2025-04-28 02:06:51,702] Trial 21 finished with value: 0.17285796349595509 and parameters: {'weight_densenet': 0.609453433176277}. Best is trial 0 with value: 0.17285796349595509.\n",
      "[I 2025-04-28 02:06:51,728] Trial 22 finished with value: 0.17285796349595509 and parameters: {'weight_densenet': 0.7199440862557831}. Best is trial 0 with value: 0.17285796349595509.\n",
      "[I 2025-04-28 02:06:51,754] Trial 23 finished with value: 0.17285796349595509 and parameters: {'weight_densenet': 0.9069290452917644}. Best is trial 0 with value: 0.17285796349595509.\n",
      "[I 2025-04-28 02:06:51,780] Trial 24 finished with value: 0.17285796349595509 and parameters: {'weight_densenet': 0.010014594688504797}. Best is trial 0 with value: 0.17285796349595509.\n",
      "[I 2025-04-28 02:06:51,807] Trial 25 finished with value: 0.17285796349595509 and parameters: {'weight_densenet': 0.5346399718187977}. Best is trial 0 with value: 0.17285796349595509.\n",
      "[I 2025-04-28 02:06:51,833] Trial 26 finished with value: 0.17285796349595509 and parameters: {'weight_densenet': 0.7418778363827815}. Best is trial 0 with value: 0.17285796349595509.\n",
      "[I 2025-04-28 02:06:51,859] Trial 27 finished with value: 0.17285796349595509 and parameters: {'weight_densenet': 0.4056652592403592}. Best is trial 0 with value: 0.17285796349595509.\n",
      "[I 2025-04-28 02:06:51,884] Trial 28 finished with value: 0.17285796349595509 and parameters: {'weight_densenet': 0.9970324339962262}. Best is trial 0 with value: 0.17285796349595509.\n",
      "[I 2025-04-28 02:06:51,911] Trial 29 finished with value: 0.17285796349595509 and parameters: {'weight_densenet': 0.6803046356721174}. Best is trial 0 with value: 0.17285796349595509.\n",
      "[I 2025-04-28 02:06:51,936] Trial 30 finished with value: 0.17285796349595509 and parameters: {'weight_densenet': 0.13061166991676143}. Best is trial 0 with value: 0.17285796349595509.\n",
      "[I 2025-04-28 02:06:51,961] Trial 31 finished with value: 0.17285796349595509 and parameters: {'weight_densenet': 0.8175441513462745}. Best is trial 0 with value: 0.17285796349595509.\n",
      "[I 2025-04-28 02:06:51,987] Trial 32 finished with value: 0.17285796349595509 and parameters: {'weight_densenet': 0.6295087294706265}. Best is trial 0 with value: 0.17285796349595509.\n",
      "[I 2025-04-28 02:06:52,013] Trial 33 finished with value: 0.17285796349595509 and parameters: {'weight_densenet': 0.5341784649586039}. Best is trial 0 with value: 0.17285796349595509.\n",
      "[I 2025-04-28 02:06:52,040] Trial 34 finished with value: 0.17285796349595509 and parameters: {'weight_densenet': 0.6570406244328043}. Best is trial 0 with value: 0.17285796349595509.\n",
      "[I 2025-04-28 02:06:52,067] Trial 35 finished with value: 0.17285796349595509 and parameters: {'weight_densenet': 0.284741444435182}. Best is trial 0 with value: 0.17285796349595509.\n",
      "[I 2025-04-28 02:06:52,093] Trial 36 finished with value: 0.17285796349595509 and parameters: {'weight_densenet': 0.5589565492879742}. Best is trial 0 with value: 0.17285796349595509.\n",
      "[I 2025-04-28 02:06:52,121] Trial 37 finished with value: 0.17285796349595509 and parameters: {'weight_densenet': 0.798812876414268}. Best is trial 0 with value: 0.17285796349595509.\n",
      "[I 2025-04-28 02:06:52,149] Trial 38 finished with value: 0.17285796349595509 and parameters: {'weight_densenet': 0.046314796953235815}. Best is trial 0 with value: 0.17285796349595509.\n",
      "[I 2025-04-28 02:06:52,175] Trial 39 finished with value: 0.17285796349595509 and parameters: {'weight_densenet': 0.1267517081192826}. Best is trial 0 with value: 0.17285796349595509.\n",
      "[I 2025-04-28 02:06:52,202] Trial 40 finished with value: 0.17285796349595509 and parameters: {'weight_densenet': 0.3715044248545641}. Best is trial 0 with value: 0.17285796349595509.\n",
      "[I 2025-04-28 02:06:52,227] Trial 41 finished with value: 0.17285796349595509 and parameters: {'weight_densenet': 0.8766827716587998}. Best is trial 0 with value: 0.17285796349595509.\n",
      "[I 2025-04-28 02:06:52,254] Trial 42 finished with value: 0.17285796349595509 and parameters: {'weight_densenet': 0.4853028113869438}. Best is trial 0 with value: 0.17285796349595509.\n",
      "[I 2025-04-28 02:06:52,280] Trial 43 finished with value: 0.17285796349595509 and parameters: {'weight_densenet': 0.9743048073423508}. Best is trial 0 with value: 0.17285796349595509.\n",
      "[I 2025-04-28 02:06:52,306] Trial 44 finished with value: 0.17285796349595509 and parameters: {'weight_densenet': 0.6997436816524677}. Best is trial 0 with value: 0.17285796349595509.\n",
      "[I 2025-04-28 02:06:52,333] Trial 45 finished with value: 0.17285796349595509 and parameters: {'weight_densenet': 0.27174491503435055}. Best is trial 0 with value: 0.17285796349595509.\n",
      "[I 2025-04-28 02:06:52,360] Trial 46 finished with value: 0.17285796349595509 and parameters: {'weight_densenet': 0.08766086345224355}. Best is trial 0 with value: 0.17285796349595509.\n",
      "[I 2025-04-28 02:06:52,387] Trial 47 finished with value: 0.17285796349595509 and parameters: {'weight_densenet': 0.8647448329244701}. Best is trial 0 with value: 0.17285796349595509.\n",
      "[I 2025-04-28 02:06:52,415] Trial 48 finished with value: 0.17285796349595509 and parameters: {'weight_densenet': 0.4420387820188806}. Best is trial 0 with value: 0.17285796349595509.\n",
      "[I 2025-04-28 02:06:52,442] Trial 49 finished with value: 0.17285796349595509 and parameters: {'weight_densenet': 0.9335537115547454}. Best is trial 0 with value: 0.17285796349595509.\n"
     ]
    },
    {
     "name": "stdout",
     "output_type": "stream",
     "text": [
      "pAUC at 0.8: 0.1617\n"
     ]
    },
    {
     "data": {
      "text/plain": [
       "0.16168572785258795"
      ]
     },
     "execution_count": 76,
     "metadata": {},
     "output_type": "execute_result"
    }
   ],
   "source": [
    "# WTD_AVG (xgboost, catboost, lightgbm)\n",
    "compute_pAUC(weighted_avg_ensemble(all_val_preds, all_test_preds, \n",
    "                                   models=[\"xgboost\", \"densenet\"]),\n",
    "             all_test_preds[\"GroundTruth\"])"
   ]
  },
  {
   "cell_type": "code",
   "execution_count": 42,
   "metadata": {
    "execution": {
     "iopub.execute_input": "2025-04-28T01:52:07.099799Z",
     "iopub.status.busy": "2025-04-28T01:52:07.099376Z",
     "iopub.status.idle": "2025-04-28T01:52:07.106958Z",
     "shell.execute_reply": "2025-04-28T01:52:07.105394Z",
     "shell.execute_reply.started": "2025-04-28T01:52:07.099770Z"
    },
    "trusted": true
   },
   "outputs": [],
   "source": [
    "def stacked_ensemble(val_preds, test_preds, models=list(), method=\"logit\", seed=123):\n",
    "    assert method in [\"logit\", \"rf\"]\n",
    "    assert len(models) >= 1\n",
    "\n",
    "    # predicted probs\n",
    "    val_preds_meta = val_preds[models]\n",
    "    test_preds_meta = test_preds[models]\n",
    "    \n",
    "    # meta model\n",
    "    if method == \"logit\":\n",
    "        clf = LogisticRegression()\n",
    "    elif method == \"rf\":\n",
    "        clf = RandomForestClassifier(n_estimators=1000, random_state=seed)\n",
    "\n",
    "    clf.fit(val_preds_meta, val_preds[\"GroundTruth\"])\n",
    "    meta_preds = clf.predict_proba(test_preds_meta)[:, 1]\n",
    "    return meta_preds"
   ]
  },
  {
   "cell_type": "code",
   "execution_count": 26,
   "metadata": {
    "execution": {
     "iopub.execute_input": "2025-04-27T23:38:59.290212Z",
     "iopub.status.busy": "2025-04-27T23:38:59.289857Z",
     "iopub.status.idle": "2025-04-27T23:38:59.368202Z",
     "shell.execute_reply": "2025-04-27T23:38:59.367221Z",
     "shell.execute_reply.started": "2025-04-27T23:38:59.290185Z"
    },
    "trusted": true
   },
   "outputs": [
    {
     "name": "stdout",
     "output_type": "stream",
     "text": [
      "pAUC at 0.8: 0.1691\n"
     ]
    },
    {
     "data": {
      "text/plain": [
       "0.1690748461606155"
      ]
     },
     "execution_count": 26,
     "metadata": {},
     "output_type": "execute_result"
    }
   ],
   "source": [
    "# STACKED (xgboost, catboost, lightgbm) with logit\n",
    "compute_pAUC(stacked_ensemble(all_val_preds, all_test_preds, models=[\"xgboost\", \"catboost\", \"lightgbm\"]),\n",
    "             all_test_preds[\"GroundTruth\"])"
   ]
  },
  {
   "cell_type": "code",
   "execution_count": 46,
   "metadata": {
    "execution": {
     "iopub.execute_input": "2025-04-28T01:54:24.278193Z",
     "iopub.status.busy": "2025-04-28T01:54:24.277781Z",
     "iopub.status.idle": "2025-04-28T01:54:24.362742Z",
     "shell.execute_reply": "2025-04-28T01:54:24.361679Z",
     "shell.execute_reply.started": "2025-04-28T01:54:24.278160Z"
    },
    "trusted": true
   },
   "outputs": [
    {
     "name": "stdout",
     "output_type": "stream",
     "text": [
      "pAUC at 0.8: 0.1559\n"
     ]
    },
    {
     "data": {
      "text/plain": [
       "0.15594530553577332"
      ]
     },
     "execution_count": 46,
     "metadata": {},
     "output_type": "execute_result"
    }
   ],
   "source": [
    "# STACKED (xgboost, efficientnet) with logit\n",
    "compute_pAUC(stacked_ensemble(all_val_preds, all_test_preds, models=[\"xgboost\", \"densenet\"]),\n",
    "             all_test_preds[\"GroundTruth\"])"
   ]
  },
  {
   "cell_type": "code",
   "execution_count": 28,
   "metadata": {
    "execution": {
     "iopub.execute_input": "2025-04-27T23:39:31.854442Z",
     "iopub.status.busy": "2025-04-27T23:39:31.854052Z",
     "iopub.status.idle": "2025-04-27T23:39:56.805110Z",
     "shell.execute_reply": "2025-04-27T23:39:56.804216Z",
     "shell.execute_reply.started": "2025-04-27T23:39:31.854411Z"
    },
    "trusted": true
   },
   "outputs": [
    {
     "name": "stdout",
     "output_type": "stream",
     "text": [
      "pAUC at 0.8: 0.1012\n"
     ]
    },
    {
     "data": {
      "text/plain": [
       "0.10118268024589853"
      ]
     },
     "execution_count": 28,
     "metadata": {},
     "output_type": "execute_result"
    }
   ],
   "source": [
    "# STACKED (xgboost, catboost, lightgbm) with rf\n",
    "compute_pAUC(stacked_ensemble(all_val_preds, all_test_preds, models=[\"xgboost\", \"catboost\", \"lightgbm\"], method=\"rf\"),\n",
    "             all_test_preds[\"GroundTruth\"])"
   ]
  },
  {
   "cell_type": "code",
   "execution_count": 45,
   "metadata": {
    "execution": {
     "iopub.execute_input": "2025-04-28T01:53:03.678449Z",
     "iopub.status.busy": "2025-04-28T01:53:03.678012Z",
     "iopub.status.idle": "2025-04-28T01:53:33.058565Z",
     "shell.execute_reply": "2025-04-28T01:53:33.057399Z",
     "shell.execute_reply.started": "2025-04-28T01:53:03.678413Z"
    },
    "trusted": true
   },
   "outputs": [
    {
     "name": "stdout",
     "output_type": "stream",
     "text": [
      "pAUC at 0.8: 0.1157\n"
     ]
    },
    {
     "data": {
      "text/plain": [
       "0.11565052802842768"
      ]
     },
     "execution_count": 45,
     "metadata": {},
     "output_type": "execute_result"
    }
   ],
   "source": [
    "# STACKED (xgboost, efficientnet) with rf\n",
    "compute_pAUC(stacked_ensemble(all_val_preds, all_test_preds, models=[\"xgboost\", \"densenet\"], method=\"rf\"),\n",
    "             all_test_preds[\"GroundTruth\"])"
   ]
  },
  {
   "cell_type": "code",
   "execution_count": 44,
   "metadata": {
    "execution": {
     "iopub.execute_input": "2025-04-28T01:52:53.709185Z",
     "iopub.status.busy": "2025-04-28T01:52:53.708804Z",
     "iopub.status.idle": "2025-04-28T01:52:53.795078Z",
     "shell.execute_reply": "2025-04-28T01:52:53.793613Z",
     "shell.execute_reply.started": "2025-04-28T01:52:53.709150Z"
    },
    "trusted": true
   },
   "outputs": [
    {
     "name": "stdout",
     "output_type": "stream",
     "text": [
      "pAUC at 0.8: 0.1635\n"
     ]
    },
    {
     "data": {
      "text/plain": [
       "0.16347689129552637"
      ]
     },
     "execution_count": 44,
     "metadata": {},
     "output_type": "execute_result"
    }
   ],
   "source": [
    "# STACKED (resnet, efficientnet, densenet) with logit\n",
    "compute_pAUC(stacked_ensemble(all_val_preds, all_test_preds, models=[\"resnet\", \"efficientnet\", \"densenet\"]),\n",
    "             all_test_preds[\"GroundTruth\"])"
   ]
  },
  {
   "cell_type": "code",
   "execution_count": 47,
   "metadata": {
    "execution": {
     "iopub.execute_input": "2025-04-28T01:55:30.463909Z",
     "iopub.status.busy": "2025-04-28T01:55:30.463538Z",
     "iopub.status.idle": "2025-04-28T01:56:02.646919Z",
     "shell.execute_reply": "2025-04-28T01:56:02.645841Z",
     "shell.execute_reply.started": "2025-04-28T01:55:30.463880Z"
    },
    "trusted": true
   },
   "outputs": [
    {
     "name": "stdout",
     "output_type": "stream",
     "text": [
      "pAUC at 0.8: 0.1330\n"
     ]
    },
    {
     "data": {
      "text/plain": [
       "0.13300303920378337"
      ]
     },
     "execution_count": 47,
     "metadata": {},
     "output_type": "execute_result"
    }
   ],
   "source": [
    "# STACKED (resnet, efficientnet, densenet) with rf\n",
    "compute_pAUC(stacked_ensemble(all_val_preds, all_test_preds, models=[\"resnet\", \"efficientnet\", \"densenet\"], method=\"rf\"),\n",
    "             all_test_preds[\"GroundTruth\"])"
   ]
  },
  {
   "cell_type": "code",
   "execution_count": 48,
   "metadata": {
    "execution": {
     "iopub.execute_input": "2025-04-28T01:56:39.157966Z",
     "iopub.status.busy": "2025-04-28T01:56:39.157558Z",
     "iopub.status.idle": "2025-04-28T01:56:39.208183Z",
     "shell.execute_reply": "2025-04-28T01:56:39.207121Z",
     "shell.execute_reply.started": "2025-04-28T01:56:39.157934Z"
    },
    "trusted": true
   },
   "outputs": [
    {
     "name": "stdout",
     "output_type": "stream",
     "text": [
      "pAUC at 0.8: 0.1645\n"
     ]
    },
    {
     "data": {
      "text/plain": [
       "0.16450555977002318"
      ]
     },
     "execution_count": 48,
     "metadata": {},
     "output_type": "execute_result"
    }
   ],
   "source": [
    "# AVG (all)\n",
    "compute_pAUC(average_ensemble(all_test_preds, models=[\"xgboost\", \"catboost\", \"lightgbm\",\n",
    "                                                      \"resnet\", \"efficientnet\", \"densenet\"]),\n",
    "             all_test_preds[\"GroundTruth\"])"
   ]
  },
  {
   "cell_type": "code",
   "execution_count": 68,
   "metadata": {
    "collapsed": true,
    "execution": {
     "iopub.execute_input": "2025-04-28T02:02:19.089958Z",
     "iopub.status.busy": "2025-04-28T02:02:19.089525Z",
     "iopub.status.idle": "2025-04-28T02:02:20.645576Z",
     "shell.execute_reply": "2025-04-28T02:02:20.644115Z",
     "shell.execute_reply.started": "2025-04-28T02:02:19.089924Z"
    },
    "jupyter": {
     "outputs_hidden": true
    },
    "trusted": true
   },
   "outputs": [
    {
     "name": "stderr",
     "output_type": "stream",
     "text": [
      "[I 2025-04-28 02:02:19,091] A new study created in memory with name: no-name-7748f3d5-9734-4d87-bd72-19b098041dd3\n",
      "[I 2025-04-28 02:02:19,118] Trial 0 finished with value: 0.1806046669813858 and parameters: {'weight_resnet': 0.0897897936709009, 'weight_lightgbm': 0.8529070944308235}. Best is trial 0 with value: 0.1806046669813858.\n",
      "[I 2025-04-28 02:02:19,141] Trial 1 finished with value: 0.16937832802879169 and parameters: {'weight_resnet': 0.9805297130734819}. Best is trial 0 with value: 0.1806046669813858.\n",
      "[I 2025-04-28 02:02:19,165] Trial 2 finished with value: 0.17763784616998549 and parameters: {'weight_resnet': 0.42604989068252264, 'weight_lightgbm': 0.42456164107125477}. Best is trial 0 with value: 0.1806046669813858.\n",
      "[I 2025-04-28 02:02:19,187] Trial 3 finished with value: 0.17912362542998936 and parameters: {'weight_resnet': 0.28319419563231907, 'weight_lightgbm': 0.023346010332572897, 'weight_catboost': 0.42702802342709456}. Best is trial 0 with value: 0.1806046669813858.\n",
      "[I 2025-04-28 02:02:19,210] Trial 4 finished with value: 0.16937832802879169 and parameters: {'weight_resnet': 0.6481655598868928}. Best is trial 0 with value: 0.1806046669813858.\n",
      "[I 2025-04-28 02:02:19,232] Trial 5 finished with value: 0.18103254128997645 and parameters: {'weight_resnet': 0.03401180757293887, 'weight_lightgbm': 0.5254269958169423}. Best is trial 5 with value: 0.18103254128997645.\n",
      "[I 2025-04-28 02:02:19,256] Trial 6 finished with value: 0.1768480870655478 and parameters: {'weight_resnet': 0.17048335124125658, 'weight_lightgbm': 0.0399667886267159, 'weight_catboost': 0.030979273977189203, 'weight_xgboost': 0.35867161462197866}. Best is trial 5 with value: 0.18103254128997645.\n",
      "[I 2025-04-28 02:02:19,280] Trial 7 finished with value: 0.18068698466843652 and parameters: {'weight_resnet': 0.06975543063572476, 'weight_lightgbm': 0.7229220296201645}. Best is trial 5 with value: 0.18103254128997645.\n",
      "[I 2025-04-28 02:02:19,303] Trial 8 finished with value: 0.16937832802879169 and parameters: {'weight_resnet': 0.9536786376344243}. Best is trial 5 with value: 0.18103254128997645.\n",
      "[I 2025-04-28 02:02:19,325] Trial 9 finished with value: 0.16937832802879169 and parameters: {'weight_resnet': 0.6047792002894034}. Best is trial 5 with value: 0.18103254128997645.\n",
      "[I 2025-04-28 02:02:19,359] Trial 10 finished with value: 0.1779227432009651 and parameters: {'weight_resnet': 0.35414062521962364, 'weight_lightgbm': 0.43102276820124763}. Best is trial 5 with value: 0.18103254128997645.\n",
      "[I 2025-04-28 02:02:19,391] Trial 11 finished with value: 0.1815514049844078 and parameters: {'weight_resnet': 0.02725848587267464, 'weight_lightgbm': 0.7286812056303122}. Best is trial 11 with value: 0.1815514049844078.\n",
      "[I 2025-04-28 02:02:19,425] Trial 12 finished with value: 0.17903128241311797 and parameters: {'weight_resnet': 0.21366206133131369, 'weight_lightgbm': 0.5776827945510701}. Best is trial 11 with value: 0.1815514049844078.\n",
      "[I 2025-04-28 02:02:19,457] Trial 13 finished with value: 0.1823394297490875 and parameters: {'weight_resnet': 0.0022967175460528316, 'weight_lightgbm': 0.9846392889591783}. Best is trial 13 with value: 0.1823394297490875.\n",
      "[I 2025-04-28 02:02:19,490] Trial 14 finished with value: 0.1821874423649287 and parameters: {'weight_resnet': 0.01882250054505467, 'weight_lightgbm': 0.9682733527995521}. Best is trial 13 with value: 0.1823394297490875.\n",
      "[I 2025-04-28 02:02:19,518] Trial 15 finished with value: 0.16937832802879169 and parameters: {'weight_resnet': 0.7663749834037038}. Best is trial 13 with value: 0.1823394297490875.\n",
      "[I 2025-04-28 02:02:19,550] Trial 16 finished with value: 0.17954578910766947 and parameters: {'weight_resnet': 0.19830694204138266, 'weight_lightgbm': 0.7871332065416929}. Best is trial 13 with value: 0.1823394297490875.\n",
      "[I 2025-04-28 02:02:19,584] Trial 17 finished with value: 0.17599487650654902 and parameters: {'weight_resnet': 0.4678633776835482, 'weight_lightgbm': 0.16170228802028375}. Best is trial 13 with value: 0.1823394297490875.\n",
      "[I 2025-04-28 02:02:19,615] Trial 18 finished with value: 0.17868965978176077 and parameters: {'weight_resnet': 0.2820160407568165, 'weight_lightgbm': 0.600920888239773}. Best is trial 13 with value: 0.1823394297490875.\n",
      "[I 2025-04-28 02:02:19,645] Trial 19 finished with value: 0.18011850193653833 and parameters: {'weight_resnet': 0.13849744672059683, 'weight_lightgbm': 0.8560036057967386}. Best is trial 13 with value: 0.1823394297490875.\n",
      "[I 2025-04-28 02:02:19,676] Trial 20 finished with value: 0.18264099336213177 and parameters: {'weight_resnet': 0.00857775062727631, 'weight_lightgbm': 0.931570733463592}. Best is trial 20 with value: 0.18264099336213177.\n",
      "[I 2025-04-28 02:02:19,708] Trial 21 finished with value: 0.18129696465161768 and parameters: {'weight_resnet': 0.046984630365394894, 'weight_lightgbm': 0.9411402055830639}. Best is trial 20 with value: 0.18264099336213177.\n",
      "[I 2025-04-28 02:02:19,740] Trial 22 finished with value: 0.18265685622577205 and parameters: {'weight_resnet': 0.0038949943827749096, 'weight_lightgbm': 0.9959416580037143}. Best is trial 22 with value: 0.18265685622577205.\n",
      "[I 2025-04-28 02:02:19,772] Trial 23 finished with value: 0.18009697074295727 and parameters: {'weight_resnet': 0.12868327431792587, 'weight_lightgbm': 0.7861143156704322}. Best is trial 22 with value: 0.18265685622577205.\n",
      "[I 2025-04-28 02:02:19,803] Trial 24 finished with value: 0.17884803461234539 and parameters: {'weight_resnet': 0.2699773950533015, 'weight_lightgbm': 0.6451060992421415}. Best is trial 22 with value: 0.18265685622577205.\n",
      "[I 2025-04-28 02:02:19,833] Trial 25 finished with value: 0.18233837222484486 and parameters: {'weight_resnet': 0.002356253624399739, 'weight_lightgbm': 0.9928920024090483}. Best is trial 22 with value: 0.18265685622577205.\n",
      "[I 2025-04-28 02:02:19,864] Trial 26 finished with value: 0.17681703815378266 and parameters: {'weight_resnet': 0.39523316114525475, 'weight_lightgbm': 0.2252571242003263}. Best is trial 22 with value: 0.18265685622577205.\n",
      "[I 2025-04-28 02:02:19,891] Trial 27 finished with value: 0.16937832802879169 and parameters: {'weight_resnet': 0.5374224287634137}. Best is trial 22 with value: 0.18265685622577205.\n",
      "[I 2025-04-28 02:02:19,924] Trial 28 finished with value: 0.18011283360659755 and parameters: {'weight_resnet': 0.13158348243206536, 'weight_lightgbm': 0.8136112013218946}. Best is trial 22 with value: 0.18265685622577205.\n",
      "[I 2025-04-28 02:02:19,955] Trial 29 finished with value: 0.18017239337194563 and parameters: {'weight_resnet': 0.10736378359721789, 'weight_lightgbm': 0.6954547314161087}. Best is trial 22 with value: 0.18265685622577205.\n",
      "[I 2025-04-28 02:02:19,986] Trial 30 finished with value: 0.17813213300101685 and parameters: {'weight_resnet': 0.2290664254365127, 'weight_lightgbm': 0.3256886221150811}. Best is trial 22 with value: 0.18265685622577205.\n",
      "[I 2025-04-28 02:02:20,019] Trial 31 finished with value: 0.18053207851736788 and parameters: {'weight_resnet': 0.09562093811124288, 'weight_lightgbm': 0.8496787936813728}. Best is trial 22 with value: 0.18265685622577205.\n",
      "[I 2025-04-28 02:02:20,051] Trial 32 finished with value: 0.1826934042635993 and parameters: {'weight_resnet': 0.007826041465323716, 'weight_lightgbm': 0.9907279105448972}. Best is trial 32 with value: 0.1826934042635993.\n",
      "[I 2025-04-28 02:02:20,085] Trial 33 finished with value: 0.18062738260211872 and parameters: {'weight_resnet': 0.08931355888343187, 'weight_lightgbm': 0.8662699598685862}. Best is trial 32 with value: 0.1826934042635993.\n",
      "[I 2025-04-28 02:02:20,118] Trial 34 finished with value: 0.18253227986998374 and parameters: {'weight_resnet': 0.010572667988507513, 'weight_lightgbm': 0.9122587152843236}. Best is trial 32 with value: 0.1826934042635993.\n",
      "[I 2025-04-28 02:02:20,149] Trial 35 finished with value: 0.17969215046285714 and parameters: {'weight_resnet': 0.16905000868446324, 'weight_lightgbm': 0.753429666991583}. Best is trial 32 with value: 0.1826934042635993.\n",
      "[I 2025-04-28 02:02:20,181] Trial 36 finished with value: 0.18081655253865028 and parameters: {'weight_resnet': 0.07395965068853287, 'weight_lightgbm': 0.8866278039501185}. Best is trial 32 with value: 0.1826934042635993.\n",
      "[I 2025-04-28 02:02:20,210] Trial 37 finished with value: 0.16937832802879169 and parameters: {'weight_resnet': 0.781344435171717}. Best is trial 32 with value: 0.1826934042635993.\n",
      "[I 2025-04-28 02:02:20,244] Trial 38 finished with value: 0.18085927651805483 and parameters: {'weight_resnet': 0.0694907720041449, 'weight_lightgbm': 0.8712574845056124}. Best is trial 32 with value: 0.1826934042635993.\n",
      "[I 2025-04-28 02:02:20,287] Trial 39 finished with value: 0.17858010027021856 and parameters: {'weight_resnet': 0.32524009669864157, 'weight_lightgbm': 0.6348246905048259}. Best is trial 32 with value: 0.1826934042635993.\n",
      "[I 2025-04-28 02:02:20,321] Trial 40 finished with value: 0.1797169388311057 and parameters: {'weight_resnet': 0.1691680948023978, 'weight_lightgbm': 0.7648177891977583}. Best is trial 32 with value: 0.1826934042635993.\n",
      "[I 2025-04-28 02:02:20,353] Trial 41 finished with value: 0.18257373482029696 and parameters: {'weight_resnet': 0.0031768436038578053, 'weight_lightgbm': 0.9309196628920138}. Best is trial 32 with value: 0.1826934042635993.\n",
      "[I 2025-04-28 02:02:20,386] Trial 42 finished with value: 0.18113461352988053 and parameters: {'weight_resnet': 0.052928841647182985, 'weight_lightgbm': 0.9051480005204042}. Best is trial 32 with value: 0.1826934042635993.\n",
      "[I 2025-04-28 02:02:20,419] Trial 43 finished with value: 0.18254074006392523 and parameters: {'weight_resnet': 0.010997138822301578, 'weight_lightgbm': 0.9277008088473682}. Best is trial 32 with value: 0.1826934042635993.\n",
      "[I 2025-04-28 02:02:20,451] Trial 44 finished with value: 0.18081697554834741 and parameters: {'weight_resnet': 0.06869557404105801, 'weight_lightgbm': 0.8273107234938204}. Best is trial 32 with value: 0.1826934042635993.\n",
      "[I 2025-04-28 02:02:20,484] Trial 45 finished with value: 0.17915746620575523 and parameters: {'weight_resnet': 0.23378559920077543, 'weight_lightgbm': 0.6996709315999174}. Best is trial 32 with value: 0.1826934042635993.\n",
      "[I 2025-04-28 02:02:20,516] Trial 46 finished with value: 0.1801762216097041 and parameters: {'weight_resnet': 0.00020077638794956977, 'weight_lightgbm': 0.9580747894145322}. Best is trial 32 with value: 0.1826934042635993.\n",
      "[I 2025-04-28 02:02:20,548] Trial 47 finished with value: 0.1800284854730009 and parameters: {'weight_resnet': 0.1393217525581383, 'weight_lightgbm': 0.7998992679636479}. Best is trial 32 with value: 0.1826934042635993.\n",
      "[I 2025-04-28 02:02:20,575] Trial 48 finished with value: 0.16937832802879169 and parameters: {'weight_resnet': 0.9442197087666518}. Best is trial 32 with value: 0.1826934042635993.\n",
      "[I 2025-04-28 02:02:20,607] Trial 49 finished with value: 0.1795990883295008 and parameters: {'weight_resnet': 0.18157740408263878, 'weight_lightgbm': 0.7526705152554046}. Best is trial 32 with value: 0.1826934042635993.\n"
     ]
    },
    {
     "name": "stdout",
     "output_type": "stream",
     "text": [
      "pAUC at 0.8: 0.1748\n"
     ]
    },
    {
     "data": {
      "text/plain": [
       "0.1748079961442374"
      ]
     },
     "execution_count": 68,
     "metadata": {},
     "output_type": "execute_result"
    }
   ],
   "source": [
    "# WTD_AVG (densenet, efficientnet, resnet)\n",
    "compute_pAUC(weighted_avg_ensemble(all_val_preds, all_test_preds, \n",
    "                                   models=[\"xgboost\", \"catboost\", \"lightgbm\", \n",
    "                                           \"resnet\", \"efficientnet\", \"densenet\"]),\n",
    "             all_test_preds[\"GroundTruth\"])"
   ]
  },
  {
   "cell_type": "code",
   "execution_count": 69,
   "metadata": {
    "execution": {
     "iopub.execute_input": "2025-04-28T02:03:06.468793Z",
     "iopub.status.busy": "2025-04-28T02:03:06.468304Z",
     "iopub.status.idle": "2025-04-28T02:03:06.566098Z",
     "shell.execute_reply": "2025-04-28T02:03:06.565006Z",
     "shell.execute_reply.started": "2025-04-28T02:03:06.468761Z"
    },
    "trusted": true
   },
   "outputs": [
    {
     "name": "stdout",
     "output_type": "stream",
     "text": [
      "pAUC at 0.8: 0.1639\n"
     ]
    },
    {
     "data": {
      "text/plain": [
       "0.1638684361590999"
      ]
     },
     "execution_count": 69,
     "metadata": {},
     "output_type": "execute_result"
    }
   ],
   "source": [
    "# STACKED (all)\n",
    "compute_pAUC(stacked_ensemble(all_val_preds, all_test_preds, \n",
    "                              models=[\"resnet\", \"efficientnet\", \"densenet\", \n",
    "                                      \"xgboost\", \"catboost\", \"lightgbm\"]),\n",
    "             all_test_preds[\"GroundTruth\"])"
   ]
  },
  {
   "cell_type": "code",
   "execution_count": 70,
   "metadata": {
    "execution": {
     "iopub.execute_input": "2025-04-28T02:03:23.396499Z",
     "iopub.status.busy": "2025-04-28T02:03:23.396120Z",
     "iopub.status.idle": "2025-04-28T02:04:15.434971Z",
     "shell.execute_reply": "2025-04-28T02:04:15.433669Z",
     "shell.execute_reply.started": "2025-04-28T02:03:23.396467Z"
    },
    "trusted": true
   },
   "outputs": [
    {
     "name": "stdout",
     "output_type": "stream",
     "text": [
      "pAUC at 0.8: 0.1520\n"
     ]
    },
    {
     "data": {
      "text/plain": [
       "0.15195373268288387"
      ]
     },
     "execution_count": 70,
     "metadata": {},
     "output_type": "execute_result"
    }
   ],
   "source": [
    "# STACKED (all)\n",
    "compute_pAUC(stacked_ensemble(all_val_preds, all_test_preds, \n",
    "                              models=[\"resnet\", \"efficientnet\", \"densenet\", \n",
    "                                      \"xgboost\", \"catboost\", \"lightgbm\"], method=\"rf\"),\n",
    "             all_test_preds[\"GroundTruth\"])"
   ]
  },
  {
   "cell_type": "markdown",
   "metadata": {},
   "source": [
    "## 4. Model Testing"
   ]
  }
 ],
 "metadata": {
  "kaggle": {
   "accelerator": "none",
   "dataSources": [
    {
     "databundleVersionId": 9094797,
     "sourceId": 63056,
     "sourceType": "competition"
    },
    {
     "datasetId": 7194861,
     "sourceId": 11479492,
     "sourceType": "datasetVersion"
    },
    {
     "datasetId": 7214656,
     "sourceId": 11506616,
     "sourceType": "datasetVersion"
    },
    {
     "datasetId": 7214949,
     "sourceId": 11507044,
     "sourceType": "datasetVersion"
    },
    {
     "datasetId": 7215807,
     "sourceId": 11508209,
     "sourceType": "datasetVersion"
    },
    {
     "datasetId": 7268984,
     "sourceId": 11591953,
     "sourceType": "datasetVersion"
    },
    {
     "datasetId": 7270062,
     "sourceId": 11593558,
     "sourceType": "datasetVersion"
    }
   ],
   "dockerImageVersionId": 30918,
   "isGpuEnabled": false,
   "isInternetEnabled": true,
   "language": "python",
   "sourceType": "notebook"
  },
  "kernelspec": {
   "display_name": "Python 3",
   "language": "python",
   "name": "python3"
  },
  "language_info": {
   "codemirror_mode": {
    "name": "ipython",
    "version": 3
   },
   "file_extension": ".py",
   "mimetype": "text/x-python",
   "name": "python",
   "nbconvert_exporter": "python",
   "pygments_lexer": "ipython3",
   "version": "3.10.12"
  }
 },
 "nbformat": 4,
 "nbformat_minor": 4
}
