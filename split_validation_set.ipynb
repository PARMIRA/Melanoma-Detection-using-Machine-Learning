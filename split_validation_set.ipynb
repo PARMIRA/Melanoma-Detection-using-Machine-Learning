{
 "cells": [
  {
   "cell_type": "code",
   "execution_count": 1,
   "id": "a1662c1d-b6da-4106-940b-6dc29c9ccc72",
   "metadata": {},
   "outputs": [
    {
     "name": "stdout",
     "output_type": "stream",
     "text": [
      "benign: Moved 40067 to validation folder.\n",
      "malignant: Moved 236 to validation folder.\n"
     ]
    }
   ],
   "source": [
    "import os\n",
    "import shutil\n",
    "import random\n",
    "from sklearn.model_selection import train_test_split\n",
    "\n",
    "# Source directories\n",
    "src_root = \"data/train\"\n",
    "classes = [\"benign\", \"malignant\"]\n",
    "\n",
    "# Target directories\n",
    "train_root = \"data/train\"\n",
    "val_root = \"data/val\"\n",
    "\n",
    "# Create target dirs\n",
    "for cls in classes:\n",
    "    os.makedirs(os.path.join(train_root, cls), exist_ok=True)\n",
    "    os.makedirs(os.path.join(val_root, cls), exist_ok=True)\n",
    "\n",
    "# Move 10% from each class to val\n",
    "for cls in classes:\n",
    "    img_dir = os.path.join(src_root, cls)\n",
    "    all_images = [f for f in os.listdir(img_dir) if f.endswith(\".png\")]\n",
    "    \n",
    "    train_imgs, val_imgs = train_test_split(all_images, test_size=0.1, random_state=42)\n",
    "\n",
    "    for fname in val_imgs:\n",
    "        src = os.path.join(img_dir, fname)\n",
    "        dst = os.path.join(val_root, cls, fname)\n",
    "        shutil.move(src, dst)\n",
    "\n",
    "    print(f\"{cls}: Moved {len(val_imgs)} to validation folder.\")"
   ]
  },
  {
   "cell_type": "code",
   "execution_count": null,
   "id": "f1a56abb-78e9-4ad8-b6bb-c2a44890b26e",
   "metadata": {},
   "outputs": [],
   "source": []
  }
 ],
 "metadata": {
  "kernelspec": {
   "display_name": "Python 3 (ipykernel)",
   "language": "python",
   "name": "python3"
  },
  "language_info": {
   "codemirror_mode": {
    "name": "ipython",
    "version": 3
   },
   "file_extension": ".py",
   "mimetype": "text/x-python",
   "name": "python",
   "nbconvert_exporter": "python",
   "pygments_lexer": "ipython3",
   "version": "3.11.7"
  }
 },
 "nbformat": 4,
 "nbformat_minor": 5
}
